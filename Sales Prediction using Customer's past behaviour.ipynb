{
  "nbformat": 4,
  "nbformat_minor": 0,
  "metadata": {
    "kernelspec": {
      "display_name": "Python 3",
      "language": "python",
      "name": "python3"
    },
    "language_info": {
      "codemirror_mode": {
        "name": "ipython",
        "version": 3
      },
      "file_extension": ".py",
      "mimetype": "text/x-python",
      "name": "python",
      "nbconvert_exporter": "python",
      "pygments_lexer": "ipython3",
      "version": "3.8.5"
    },
    "colab": {
      "name": "Sales Prediction using Customer's past behaviour.ipynb",
      "provenance": [],
      "include_colab_link": true
    }
  },
  "cells": [
    {
      "cell_type": "markdown",
      "metadata": {
        "id": "view-in-github",
        "colab_type": "text"
      },
      "source": [
        "<a href=\"https://colab.research.google.com/github/sahil-ansari-15/Sales-Prediction-using-Customer-s-past-behaviour/blob/main/Sales%20Prediction%20using%20Customer's%20past%20behaviour.ipynb\" target=\"_parent\"><img src=\"https://colab.research.google.com/assets/colab-badge.svg\" alt=\"Open In Colab\"/></a>"
      ]
    },
    {
      "cell_type": "markdown",
      "metadata": {
        "id": "vWBwMtOCiVDF"
      },
      "source": [
        "# ===============================================\n",
        "# Sales Prediction using Customer's past behaviour\n",
        "# ==============================================="
      ]
    },
    {
      "cell_type": "markdown",
      "metadata": {
        "id": "Sl0dnP2GiVDI"
      },
      "source": [
        "**Problem statement**:<br> Predict whether a customer will purchase from the store given data about customer’s information and past behaviour.\n",
        "\n",
        " \n",
        "\n",
        "The train.csv file contains the training dataset that has the following variables. You may use this data for the purpose of training and validating your model.\n",
        "\n",
        " \n",
        "<br>\n",
        "\n",
        "**Target variable**<br>\n",
        "PURCHASE - Indicates whether a customer purchases (Yes/No) a product when approached by the store.\n",
        "\n",
        " \n",
        "<br>\n",
        "\n",
        "**Other variables**:<br>\n",
        "ID - Unique identifier of a customer<br>\n",
        "STATE - Customer’s state of residence<br>\n",
        "AGE - Customer’s age<br>\n",
        "OCCUPATION - Customer’s occupation<br>\n",
        "INCOME_GROUP - Customer’s income band<br>\n",
        "CUSTOMER_SINCE - Year in which the customer made the first purchase at the store<br>\n",
        "LOYALTY_PROGRAM - Is the customer enrolled for the loyalty program? (Yes/No)<br>\n",
        "PAST_PURCHASE - Total amount of past purchase from the same store\n",
        " \n",
        "<br>\n",
        "\n",
        "**Evaluation criteria**:<br>\n",
        "F1 score which is the harmonic mean of precision and recall. You are expected to predict using the data in the test.csv file and send the prediction in the format mentioned in sample_submission.csv."
      ]
    },
    {
      "cell_type": "code",
      "metadata": {
        "id": "_-fBq1SDiVDJ"
      },
      "source": [
        "# Imporing required libraries.\n",
        "import pandas as pd\n",
        "import numpy as np\n",
        "import matplotlib.pyplot as plt\n",
        "import seaborn as sns\n",
        "import warnings\n",
        "\n",
        "warnings.filterwarnings('ignore') # ignore warnings\n",
        "\n",
        "# Preparing Setup\n",
        "pd.set_option('display.max_columns', None)\n",
        "pd.set_option('display.max_rows', None)\n",
        "\n",
        "# set seaborn style\n",
        "sns.set_style('whitegrid')\n",
        "\n",
        "# setting randomness in notebook\n",
        "np.random.seed(0)"
      ],
      "execution_count": 1,
      "outputs": []
    },
    {
      "cell_type": "code",
      "metadata": {
        "id": "GWKsaYzaiVDK"
      },
      "source": [
        "train_df = pd.read_csv(\"train.csv\")\n",
        "test_df = pd.read_csv(\"test.csv\")"
      ],
      "execution_count": 2,
      "outputs": []
    },
    {
      "cell_type": "code",
      "metadata": {
        "id": "f_yskP9siVDL",
        "outputId": "fbdfc6f7-286d-4f28-bc38-a323441e2b9e",
        "colab": {
          "base_uri": "https://localhost:8080/",
          "height": 221
        }
      },
      "source": [
        "print(train_df.shape)\n",
        "train_df.head()"
      ],
      "execution_count": 3,
      "outputs": [
        {
          "output_type": "stream",
          "text": [
            "(150000, 9)\n"
          ],
          "name": "stdout"
        },
        {
          "output_type": "execute_result",
          "data": {
            "text/html": [
              "<div>\n",
              "<style scoped>\n",
              "    .dataframe tbody tr th:only-of-type {\n",
              "        vertical-align: middle;\n",
              "    }\n",
              "\n",
              "    .dataframe tbody tr th {\n",
              "        vertical-align: top;\n",
              "    }\n",
              "\n",
              "    .dataframe thead th {\n",
              "        text-align: right;\n",
              "    }\n",
              "</style>\n",
              "<table border=\"1\" class=\"dataframe\">\n",
              "  <thead>\n",
              "    <tr style=\"text-align: right;\">\n",
              "      <th></th>\n",
              "      <th>ID</th>\n",
              "      <th>STATE</th>\n",
              "      <th>AGE</th>\n",
              "      <th>OCCUPATION</th>\n",
              "      <th>INCOME_GROUP</th>\n",
              "      <th>CUSTOMER_SINCE</th>\n",
              "      <th>LOYALTY_PROGRAM</th>\n",
              "      <th>PAST_PURCHASE</th>\n",
              "      <th>PURCHASE</th>\n",
              "    </tr>\n",
              "  </thead>\n",
              "  <tbody>\n",
              "    <tr>\n",
              "      <th>0</th>\n",
              "      <td>1</td>\n",
              "      <td>Uttar Pradesh</td>\n",
              "      <td>28</td>\n",
              "      <td></td>\n",
              "      <td>Low</td>\n",
              "      <td>2018</td>\n",
              "      <td>No</td>\n",
              "      <td>4937</td>\n",
              "      <td>No</td>\n",
              "    </tr>\n",
              "    <tr>\n",
              "      <th>1</th>\n",
              "      <td>2</td>\n",
              "      <td>Madhya Pradesh</td>\n",
              "      <td>27</td>\n",
              "      <td>Salaried</td>\n",
              "      <td>Low</td>\n",
              "      <td>2018</td>\n",
              "      <td>No</td>\n",
              "      <td>10834</td>\n",
              "      <td>No</td>\n",
              "    </tr>\n",
              "    <tr>\n",
              "      <th>2</th>\n",
              "      <td>3</td>\n",
              "      <td>West Bengal</td>\n",
              "      <td>62</td>\n",
              "      <td></td>\n",
              "      <td>High</td>\n",
              "      <td>2013</td>\n",
              "      <td>NaN</td>\n",
              "      <td>8610</td>\n",
              "      <td>Yes</td>\n",
              "    </tr>\n",
              "    <tr>\n",
              "      <th>3</th>\n",
              "      <td>4</td>\n",
              "      <td>Tamil Nadu</td>\n",
              "      <td>27</td>\n",
              "      <td>Salaried</td>\n",
              "      <td>Low</td>\n",
              "      <td>2018</td>\n",
              "      <td>No</td>\n",
              "      <td>14374</td>\n",
              "      <td>Yes</td>\n",
              "    </tr>\n",
              "    <tr>\n",
              "      <th>4</th>\n",
              "      <td>5</td>\n",
              "      <td>Uttar Pradesh</td>\n",
              "      <td>40</td>\n",
              "      <td>Self employed</td>\n",
              "      <td>High</td>\n",
              "      <td>2015</td>\n",
              "      <td>No</td>\n",
              "      <td>13158</td>\n",
              "      <td>No</td>\n",
              "    </tr>\n",
              "  </tbody>\n",
              "</table>\n",
              "</div>"
            ],
            "text/plain": [
              "   ID           STATE  AGE     OCCUPATION INCOME_GROUP  CUSTOMER_SINCE  \\\n",
              "0   1   Uttar Pradesh   28                         Low            2018   \n",
              "1   2  Madhya Pradesh   27       Salaried          Low            2018   \n",
              "2   3     West Bengal   62                        High            2013   \n",
              "3   4      Tamil Nadu   27       Salaried          Low            2018   \n",
              "4   5   Uttar Pradesh   40  Self employed         High            2015   \n",
              "\n",
              "  LOYALTY_PROGRAM  PAST_PURCHASE PURCHASE  \n",
              "0              No           4937       No  \n",
              "1              No          10834       No  \n",
              "2             NaN           8610      Yes  \n",
              "3              No          14374      Yes  \n",
              "4              No          13158       No  "
            ]
          },
          "metadata": {
            "tags": []
          },
          "execution_count": 3
        }
      ]
    },
    {
      "cell_type": "code",
      "metadata": {
        "id": "3QZ-mcODiVDM",
        "outputId": "b3f77d70-048f-4612-91d1-4e3530894ed8",
        "colab": {
          "base_uri": "https://localhost:8080/",
          "height": 221
        }
      },
      "source": [
        "print(test_df.shape)\n",
        "test_df.head()"
      ],
      "execution_count": 4,
      "outputs": [
        {
          "output_type": "stream",
          "text": [
            "(50000, 8)\n"
          ],
          "name": "stdout"
        },
        {
          "output_type": "execute_result",
          "data": {
            "text/html": [
              "<div>\n",
              "<style scoped>\n",
              "    .dataframe tbody tr th:only-of-type {\n",
              "        vertical-align: middle;\n",
              "    }\n",
              "\n",
              "    .dataframe tbody tr th {\n",
              "        vertical-align: top;\n",
              "    }\n",
              "\n",
              "    .dataframe thead th {\n",
              "        text-align: right;\n",
              "    }\n",
              "</style>\n",
              "<table border=\"1\" class=\"dataframe\">\n",
              "  <thead>\n",
              "    <tr style=\"text-align: right;\">\n",
              "      <th></th>\n",
              "      <th>ID</th>\n",
              "      <th>STATE</th>\n",
              "      <th>AGE</th>\n",
              "      <th>OCCUPATION</th>\n",
              "      <th>INCOME_GROUP</th>\n",
              "      <th>CUSTOMER_SINCE</th>\n",
              "      <th>LOYALTY_PROGRAM</th>\n",
              "      <th>PAST_PURCHASE</th>\n",
              "    </tr>\n",
              "  </thead>\n",
              "  <tbody>\n",
              "    <tr>\n",
              "      <th>0</th>\n",
              "      <td>150001</td>\n",
              "      <td>Maharashtra</td>\n",
              "      <td>50</td>\n",
              "      <td>Self employed</td>\n",
              "      <td>Medium</td>\n",
              "      <td>2018</td>\n",
              "      <td>No</td>\n",
              "      <td>12746</td>\n",
              "    </tr>\n",
              "    <tr>\n",
              "      <th>1</th>\n",
              "      <td>150002</td>\n",
              "      <td>Maharashtra</td>\n",
              "      <td>58</td>\n",
              "      <td>Self employed</td>\n",
              "      <td>High</td>\n",
              "      <td>2011</td>\n",
              "      <td>Yes</td>\n",
              "      <td>12277</td>\n",
              "    </tr>\n",
              "    <tr>\n",
              "      <th>2</th>\n",
              "      <td>150003</td>\n",
              "      <td>Andaman and Nicobar Islands</td>\n",
              "      <td>30</td>\n",
              "      <td>Salaried</td>\n",
              "      <td>Low</td>\n",
              "      <td>2017</td>\n",
              "      <td>Yes</td>\n",
              "      <td>16401</td>\n",
              "    </tr>\n",
              "    <tr>\n",
              "      <th>3</th>\n",
              "      <td>150004</td>\n",
              "      <td>Mizoram</td>\n",
              "      <td>27</td>\n",
              "      <td>Salaried</td>\n",
              "      <td>Low</td>\n",
              "      <td>2018</td>\n",
              "      <td>Yes</td>\n",
              "      <td>9665</td>\n",
              "    </tr>\n",
              "    <tr>\n",
              "      <th>4</th>\n",
              "      <td>150005</td>\n",
              "      <td>Uttar Pradesh</td>\n",
              "      <td>67</td>\n",
              "      <td></td>\n",
              "      <td>Medium</td>\n",
              "      <td>2014</td>\n",
              "      <td>No</td>\n",
              "      <td>15724</td>\n",
              "    </tr>\n",
              "  </tbody>\n",
              "</table>\n",
              "</div>"
            ],
            "text/plain": [
              "       ID                        STATE  AGE     OCCUPATION INCOME_GROUP  \\\n",
              "0  150001                  Maharashtra   50  Self employed       Medium   \n",
              "1  150002                  Maharashtra   58  Self employed         High   \n",
              "2  150003  Andaman and Nicobar Islands   30       Salaried          Low   \n",
              "3  150004                      Mizoram   27       Salaried          Low   \n",
              "4  150005                Uttar Pradesh   67                      Medium   \n",
              "\n",
              "   CUSTOMER_SINCE LOYALTY_PROGRAM  PAST_PURCHASE  \n",
              "0            2018              No          12746  \n",
              "1            2011             Yes          12277  \n",
              "2            2017             Yes          16401  \n",
              "3            2018             Yes           9665  \n",
              "4            2014              No          15724  "
            ]
          },
          "metadata": {
            "tags": []
          },
          "execution_count": 4
        }
      ]
    },
    {
      "cell_type": "markdown",
      "metadata": {
        "id": "b5f60uwEiVDN"
      },
      "source": [
        "## Exploratory Data Analysis (EDA) & Data wrangling (Featuring Engineering)"
      ]
    },
    {
      "cell_type": "markdown",
      "metadata": {
        "id": "cgQoaWuqiVDO"
      },
      "source": [
        "### Training Dataset : train_df"
      ]
    },
    {
      "cell_type": "code",
      "metadata": {
        "id": "khV4M6N7iVDO",
        "outputId": "233afbbc-455f-4ae2-ce9f-30caf83f344f",
        "colab": {
          "base_uri": "https://localhost:8080/"
        }
      },
      "source": [
        "train_df.info()"
      ],
      "execution_count": 5,
      "outputs": [
        {
          "output_type": "stream",
          "text": [
            "<class 'pandas.core.frame.DataFrame'>\n",
            "RangeIndex: 150000 entries, 0 to 149999\n",
            "Data columns (total 9 columns):\n",
            " #   Column           Non-Null Count   Dtype \n",
            "---  ------           --------------   ----- \n",
            " 0   ID               150000 non-null  int64 \n",
            " 1   STATE            150000 non-null  object\n",
            " 2   AGE              150000 non-null  int64 \n",
            " 3   OCCUPATION       150000 non-null  object\n",
            " 4   INCOME_GROUP     150000 non-null  object\n",
            " 5   CUSTOMER_SINCE   150000 non-null  int64 \n",
            " 6   LOYALTY_PROGRAM  132176 non-null  object\n",
            " 7   PAST_PURCHASE    150000 non-null  int64 \n",
            " 8   PURCHASE         150000 non-null  object\n",
            "dtypes: int64(4), object(5)\n",
            "memory usage: 10.3+ MB\n"
          ],
          "name": "stdout"
        }
      ]
    },
    {
      "cell_type": "code",
      "metadata": {
        "id": "ayK_vXD_iVDP",
        "outputId": "5a3b01d1-7d4f-42f3-f61c-cd7d96e80ace",
        "colab": {
          "base_uri": "https://localhost:8080/"
        }
      },
      "source": [
        "train_df.isnull().sum()"
      ],
      "execution_count": 6,
      "outputs": [
        {
          "output_type": "execute_result",
          "data": {
            "text/plain": [
              "ID                     0\n",
              "STATE                  0\n",
              "AGE                    0\n",
              "OCCUPATION             0\n",
              "INCOME_GROUP           0\n",
              "CUSTOMER_SINCE         0\n",
              "LOYALTY_PROGRAM    17824\n",
              "PAST_PURCHASE          0\n",
              "PURCHASE               0\n",
              "dtype: int64"
            ]
          },
          "metadata": {
            "tags": []
          },
          "execution_count": 6
        }
      ]
    },
    {
      "cell_type": "code",
      "metadata": {
        "id": "5IoFo9GRiVDQ",
        "outputId": "fde61222-7c0d-4ca6-eef4-7249fd891289",
        "colab": {
          "base_uri": "https://localhost:8080/",
          "height": 35
        }
      },
      "source": [
        "train_df.iloc[0,3]"
      ],
      "execution_count": 7,
      "outputs": [
        {
          "output_type": "execute_result",
          "data": {
            "application/vnd.google.colaboratory.intrinsic+json": {
              "type": "string"
            },
            "text/plain": [
              "' '"
            ]
          },
          "metadata": {
            "tags": []
          },
          "execution_count": 7
        }
      ]
    },
    {
      "cell_type": "code",
      "metadata": {
        "id": "Xe3k0zrEiVDQ"
      },
      "source": [
        "# for col in list(train_df.columns)[1:]:\n",
        "#     print(train_df[col].value_counts(),'\\n','='*80)"
      ],
      "execution_count": 8,
      "outputs": []
    },
    {
      "cell_type": "code",
      "metadata": {
        "id": "7NxywoUriVDR",
        "outputId": "80ed35fc-14d9-4de7-b074-da652a0d7bd7",
        "colab": {
          "base_uri": "https://localhost:8080/"
        }
      },
      "source": [
        "print('          Columns having white space/ null - missing values          \\n','='*70)\n",
        "for col in list(train_df.columns):\n",
        "    if ' ' in train_df[col].value_counts():\n",
        "        miss_val = train_df[col].value_counts()[' ']\n",
        "        print(col,'\\n{} white space/ missing values'.format(miss_val))\n",
        "        print(round((miss_val/len(train_df))*100,2),' %\\n')\n",
        "miss_val = train_df['LOYALTY_PROGRAM'].isnull().sum()\n",
        "print('LOYALTY_PROGRAM\\n','{} null/ missing values'.format(miss_val))\n",
        "print(round((miss_val/len(train_df))*100,2),' %')"
      ],
      "execution_count": 9,
      "outputs": [
        {
          "output_type": "stream",
          "text": [
            "          Columns having white space/ null - missing values          \n",
            " ======================================================================\n",
            "STATE \n",
            "1842 white space/ missing values\n",
            "1.23  %\n",
            "\n",
            "OCCUPATION \n",
            "42777 white space/ missing values\n",
            "28.52  %\n",
            "\n",
            "INCOME_GROUP \n",
            "3437 white space/ missing values\n",
            "2.29  %\n",
            "\n",
            "LOYALTY_PROGRAM\n",
            " 17824 null/ missing values\n",
            "11.88  %\n"
          ],
          "name": "stdout"
        }
      ]
    },
    {
      "cell_type": "code",
      "metadata": {
        "id": "aYW1E2l7iVDT"
      },
      "source": [
        "train_df.replace({\" \": \"unknown\", np.nan: \"unknown\"}, inplace = True)\n",
        "\n",
        "train_df['PURCHASE'].replace(['Yes', 'No'], [1, 0], inplace = True)"
      ],
      "execution_count": 10,
      "outputs": []
    },
    {
      "cell_type": "code",
      "metadata": {
        "id": "NKt8TLE3iVDU",
        "outputId": "9957668c-2021-4eba-c06d-63f886b91fc8",
        "colab": {
          "base_uri": "https://localhost:8080/"
        }
      },
      "source": [
        "print('          Columns having white space/ null - missing values          \\n','='*70)\n",
        "for col in list(train_df.columns):\n",
        "    if ' ' in train_df[col].value_counts():\n",
        "        miss_val = train_df[col].value_counts()[' ']\n",
        "        print(col,'\\n{} white space/ missing values'.format(miss_val))\n",
        "        print(round((miss_val/len(train_df))*100,2),' %\\n')\n",
        "miss_val = train_df['LOYALTY_PROGRAM'].isnull().sum()\n",
        "print('LOYALTY_PROGRAM\\n','{} null/ missing values'.format(miss_val))\n",
        "print(round((miss_val/len(train_df))*100,2),' %')"
      ],
      "execution_count": 11,
      "outputs": [
        {
          "output_type": "stream",
          "text": [
            "          Columns having white space/ null - missing values          \n",
            " ======================================================================\n",
            "LOYALTY_PROGRAM\n",
            " 0 null/ missing values\n",
            "0.0  %\n"
          ],
          "name": "stdout"
        }
      ]
    },
    {
      "cell_type": "code",
      "metadata": {
        "id": "KjC1QZ5ViVDV",
        "outputId": "9d1d4734-8775-44b5-c12a-e6d6843fe346",
        "colab": {
          "base_uri": "https://localhost:8080/",
          "height": 669
        }
      },
      "source": [
        "train_df.head(20)"
      ],
      "execution_count": 12,
      "outputs": [
        {
          "output_type": "execute_result",
          "data": {
            "text/html": [
              "<div>\n",
              "<style scoped>\n",
              "    .dataframe tbody tr th:only-of-type {\n",
              "        vertical-align: middle;\n",
              "    }\n",
              "\n",
              "    .dataframe tbody tr th {\n",
              "        vertical-align: top;\n",
              "    }\n",
              "\n",
              "    .dataframe thead th {\n",
              "        text-align: right;\n",
              "    }\n",
              "</style>\n",
              "<table border=\"1\" class=\"dataframe\">\n",
              "  <thead>\n",
              "    <tr style=\"text-align: right;\">\n",
              "      <th></th>\n",
              "      <th>ID</th>\n",
              "      <th>STATE</th>\n",
              "      <th>AGE</th>\n",
              "      <th>OCCUPATION</th>\n",
              "      <th>INCOME_GROUP</th>\n",
              "      <th>CUSTOMER_SINCE</th>\n",
              "      <th>LOYALTY_PROGRAM</th>\n",
              "      <th>PAST_PURCHASE</th>\n",
              "      <th>PURCHASE</th>\n",
              "    </tr>\n",
              "  </thead>\n",
              "  <tbody>\n",
              "    <tr>\n",
              "      <th>0</th>\n",
              "      <td>1</td>\n",
              "      <td>Uttar Pradesh</td>\n",
              "      <td>28</td>\n",
              "      <td>unknown</td>\n",
              "      <td>Low</td>\n",
              "      <td>2018</td>\n",
              "      <td>No</td>\n",
              "      <td>4937</td>\n",
              "      <td>0</td>\n",
              "    </tr>\n",
              "    <tr>\n",
              "      <th>1</th>\n",
              "      <td>2</td>\n",
              "      <td>Madhya Pradesh</td>\n",
              "      <td>27</td>\n",
              "      <td>Salaried</td>\n",
              "      <td>Low</td>\n",
              "      <td>2018</td>\n",
              "      <td>No</td>\n",
              "      <td>10834</td>\n",
              "      <td>0</td>\n",
              "    </tr>\n",
              "    <tr>\n",
              "      <th>2</th>\n",
              "      <td>3</td>\n",
              "      <td>West Bengal</td>\n",
              "      <td>62</td>\n",
              "      <td>unknown</td>\n",
              "      <td>High</td>\n",
              "      <td>2013</td>\n",
              "      <td>unknown</td>\n",
              "      <td>8610</td>\n",
              "      <td>1</td>\n",
              "    </tr>\n",
              "    <tr>\n",
              "      <th>3</th>\n",
              "      <td>4</td>\n",
              "      <td>Tamil Nadu</td>\n",
              "      <td>27</td>\n",
              "      <td>Salaried</td>\n",
              "      <td>Low</td>\n",
              "      <td>2018</td>\n",
              "      <td>No</td>\n",
              "      <td>14374</td>\n",
              "      <td>1</td>\n",
              "    </tr>\n",
              "    <tr>\n",
              "      <th>4</th>\n",
              "      <td>5</td>\n",
              "      <td>Uttar Pradesh</td>\n",
              "      <td>40</td>\n",
              "      <td>Self employed</td>\n",
              "      <td>High</td>\n",
              "      <td>2015</td>\n",
              "      <td>No</td>\n",
              "      <td>13158</td>\n",
              "      <td>0</td>\n",
              "    </tr>\n",
              "    <tr>\n",
              "      <th>5</th>\n",
              "      <td>6</td>\n",
              "      <td>Maharashtra</td>\n",
              "      <td>28</td>\n",
              "      <td>Salaried</td>\n",
              "      <td>Low</td>\n",
              "      <td>2018</td>\n",
              "      <td>No</td>\n",
              "      <td>5159</td>\n",
              "      <td>0</td>\n",
              "    </tr>\n",
              "    <tr>\n",
              "      <th>6</th>\n",
              "      <td>7</td>\n",
              "      <td>Tamil Nadu</td>\n",
              "      <td>68</td>\n",
              "      <td>unknown</td>\n",
              "      <td>High</td>\n",
              "      <td>2010</td>\n",
              "      <td>unknown</td>\n",
              "      <td>12780</td>\n",
              "      <td>1</td>\n",
              "    </tr>\n",
              "    <tr>\n",
              "      <th>7</th>\n",
              "      <td>8</td>\n",
              "      <td>Maharashtra</td>\n",
              "      <td>45</td>\n",
              "      <td>Self employed</td>\n",
              "      <td>Medium</td>\n",
              "      <td>2018</td>\n",
              "      <td>No</td>\n",
              "      <td>5018</td>\n",
              "      <td>0</td>\n",
              "    </tr>\n",
              "    <tr>\n",
              "      <th>8</th>\n",
              "      <td>9</td>\n",
              "      <td>West Bengal</td>\n",
              "      <td>56</td>\n",
              "      <td>Self employed</td>\n",
              "      <td>Medium</td>\n",
              "      <td>2014</td>\n",
              "      <td>Yes</td>\n",
              "      <td>7238</td>\n",
              "      <td>0</td>\n",
              "    </tr>\n",
              "    <tr>\n",
              "      <th>9</th>\n",
              "      <td>10</td>\n",
              "      <td>Tamil Nadu</td>\n",
              "      <td>67</td>\n",
              "      <td>unknown</td>\n",
              "      <td>High</td>\n",
              "      <td>2010</td>\n",
              "      <td>Yes</td>\n",
              "      <td>25120</td>\n",
              "      <td>1</td>\n",
              "    </tr>\n",
              "    <tr>\n",
              "      <th>10</th>\n",
              "      <td>11</td>\n",
              "      <td>Uttar Pradesh</td>\n",
              "      <td>37</td>\n",
              "      <td>Self employed</td>\n",
              "      <td>unknown</td>\n",
              "      <td>2019</td>\n",
              "      <td>Yes</td>\n",
              "      <td>6602</td>\n",
              "      <td>0</td>\n",
              "    </tr>\n",
              "    <tr>\n",
              "      <th>11</th>\n",
              "      <td>12</td>\n",
              "      <td>Tamil Nadu</td>\n",
              "      <td>26</td>\n",
              "      <td>Salaried</td>\n",
              "      <td>Low</td>\n",
              "      <td>2018</td>\n",
              "      <td>Yes</td>\n",
              "      <td>7529</td>\n",
              "      <td>1</td>\n",
              "    </tr>\n",
              "    <tr>\n",
              "      <th>12</th>\n",
              "      <td>13</td>\n",
              "      <td>Kerala</td>\n",
              "      <td>31</td>\n",
              "      <td>unknown</td>\n",
              "      <td>Low</td>\n",
              "      <td>2017</td>\n",
              "      <td>No</td>\n",
              "      <td>3853</td>\n",
              "      <td>0</td>\n",
              "    </tr>\n",
              "    <tr>\n",
              "      <th>13</th>\n",
              "      <td>14</td>\n",
              "      <td>Goa</td>\n",
              "      <td>37</td>\n",
              "      <td>Salaried</td>\n",
              "      <td>Low</td>\n",
              "      <td>2017</td>\n",
              "      <td>No</td>\n",
              "      <td>7477</td>\n",
              "      <td>0</td>\n",
              "    </tr>\n",
              "    <tr>\n",
              "      <th>14</th>\n",
              "      <td>15</td>\n",
              "      <td>Karnataka</td>\n",
              "      <td>52</td>\n",
              "      <td>Self employed</td>\n",
              "      <td>High</td>\n",
              "      <td>2010</td>\n",
              "      <td>No</td>\n",
              "      <td>8604</td>\n",
              "      <td>0</td>\n",
              "    </tr>\n",
              "    <tr>\n",
              "      <th>15</th>\n",
              "      <td>16</td>\n",
              "      <td>Andhra Pradesh</td>\n",
              "      <td>40</td>\n",
              "      <td>Self employed</td>\n",
              "      <td>Low</td>\n",
              "      <td>2017</td>\n",
              "      <td>No</td>\n",
              "      <td>5612</td>\n",
              "      <td>0</td>\n",
              "    </tr>\n",
              "    <tr>\n",
              "      <th>16</th>\n",
              "      <td>17</td>\n",
              "      <td>Telangana</td>\n",
              "      <td>43</td>\n",
              "      <td>Self employed</td>\n",
              "      <td>unknown</td>\n",
              "      <td>2018</td>\n",
              "      <td>Yes</td>\n",
              "      <td>5406</td>\n",
              "      <td>0</td>\n",
              "    </tr>\n",
              "    <tr>\n",
              "      <th>17</th>\n",
              "      <td>18</td>\n",
              "      <td>Tamil Nadu</td>\n",
              "      <td>32</td>\n",
              "      <td>unknown</td>\n",
              "      <td>Medium</td>\n",
              "      <td>2016</td>\n",
              "      <td>No</td>\n",
              "      <td>6461</td>\n",
              "      <td>0</td>\n",
              "    </tr>\n",
              "    <tr>\n",
              "      <th>18</th>\n",
              "      <td>19</td>\n",
              "      <td>Tamil Nadu</td>\n",
              "      <td>63</td>\n",
              "      <td>unknown</td>\n",
              "      <td>Low</td>\n",
              "      <td>2013</td>\n",
              "      <td>unknown</td>\n",
              "      <td>12900</td>\n",
              "      <td>1</td>\n",
              "    </tr>\n",
              "    <tr>\n",
              "      <th>19</th>\n",
              "      <td>20</td>\n",
              "      <td>Chandigarh</td>\n",
              "      <td>52</td>\n",
              "      <td>unknown</td>\n",
              "      <td>Medium</td>\n",
              "      <td>2017</td>\n",
              "      <td>No</td>\n",
              "      <td>2801</td>\n",
              "      <td>0</td>\n",
              "    </tr>\n",
              "  </tbody>\n",
              "</table>\n",
              "</div>"
            ],
            "text/plain": [
              "    ID           STATE  AGE     OCCUPATION INCOME_GROUP  CUSTOMER_SINCE  \\\n",
              "0    1   Uttar Pradesh   28        unknown          Low            2018   \n",
              "1    2  Madhya Pradesh   27       Salaried          Low            2018   \n",
              "2    3     West Bengal   62        unknown         High            2013   \n",
              "3    4      Tamil Nadu   27       Salaried          Low            2018   \n",
              "4    5   Uttar Pradesh   40  Self employed         High            2015   \n",
              "5    6     Maharashtra   28       Salaried          Low            2018   \n",
              "6    7      Tamil Nadu   68        unknown         High            2010   \n",
              "7    8     Maharashtra   45  Self employed       Medium            2018   \n",
              "8    9     West Bengal   56  Self employed       Medium            2014   \n",
              "9   10      Tamil Nadu   67        unknown         High            2010   \n",
              "10  11   Uttar Pradesh   37  Self employed      unknown            2019   \n",
              "11  12      Tamil Nadu   26       Salaried          Low            2018   \n",
              "12  13          Kerala   31        unknown          Low            2017   \n",
              "13  14             Goa   37       Salaried          Low            2017   \n",
              "14  15       Karnataka   52  Self employed         High            2010   \n",
              "15  16  Andhra Pradesh   40  Self employed          Low            2017   \n",
              "16  17       Telangana   43  Self employed      unknown            2018   \n",
              "17  18      Tamil Nadu   32        unknown       Medium            2016   \n",
              "18  19      Tamil Nadu   63        unknown          Low            2013   \n",
              "19  20      Chandigarh   52        unknown       Medium            2017   \n",
              "\n",
              "   LOYALTY_PROGRAM  PAST_PURCHASE  PURCHASE  \n",
              "0               No           4937         0  \n",
              "1               No          10834         0  \n",
              "2          unknown           8610         1  \n",
              "3               No          14374         1  \n",
              "4               No          13158         0  \n",
              "5               No           5159         0  \n",
              "6          unknown          12780         1  \n",
              "7               No           5018         0  \n",
              "8              Yes           7238         0  \n",
              "9              Yes          25120         1  \n",
              "10             Yes           6602         0  \n",
              "11             Yes           7529         1  \n",
              "12              No           3853         0  \n",
              "13              No           7477         0  \n",
              "14              No           8604         0  \n",
              "15              No           5612         0  \n",
              "16             Yes           5406         0  \n",
              "17              No           6461         0  \n",
              "18         unknown          12900         1  \n",
              "19              No           2801         0  "
            ]
          },
          "metadata": {
            "tags": []
          },
          "execution_count": 12
        }
      ]
    },
    {
      "cell_type": "markdown",
      "metadata": {
        "id": "xptg5eeviVDV"
      },
      "source": [
        "### Handling Categorical Data\n",
        "One can find many ways to handle categorical data. Some of them categorical data are,\n",
        "\n",
        "**Nominal data** --> data are not in any order --> **OneHotEncoder**\n",
        "\n",
        "**Ordinal data** --> data are in order --> **LabelEncoder**"
      ]
    },
    {
      "cell_type": "code",
      "metadata": {
        "id": "-UFdsZfdiVDW",
        "outputId": "fa589482-d38b-4eba-a29b-2d3ce1c70236",
        "colab": {
          "base_uri": "https://localhost:8080/",
          "height": 708
        }
      },
      "source": [
        "plt.figure(figsize=(15, 10))\n",
        "sns.countplot(x='STATE', data=train_df, hue='PURCHASE')\n",
        "plt.tick_params(labelrotation=45)\n",
        "plt.show()"
      ],
      "execution_count": 13,
      "outputs": [
        {
          "output_type": "display_data",
          "data": {
            "image/png": "[encoded data removed]",
            "text/plain": [
              "<Figure size 1080x720 with 1 Axes>"
            ]
          },
          "metadata": {
            "tags": [],
            "needs_background": "light"
          }
        }
      ]
    },
    {
      "cell_type": "code",
      "metadata": {
        "id": "qGP5rZzWiVDW",
        "outputId": "40dc0008-a5d8-4940-def1-a972aebf3a5d",
        "colab": {
          "base_uri": "https://localhost:8080/",
          "height": 500
        }
      },
      "source": [
        "plt.figure(figsize=(8, 8))\n",
        "train_df['STATE'].value_counts().plot.pie(autopct=\"%.1f%%\")\n",
        "plt.figure(figsize=[15,15])"
      ],
      "execution_count": 14,
      "outputs": [
        {
          "output_type": "execute_result",
          "data": {
            "text/plain": [
              "<Figure size 1080x1080 with 0 Axes>"
            ]
          },
          "metadata": {
            "tags": []
          },
          "execution_count": 14
        },
        {
          "output_type": "display_data",
          "data": {
            "image/png": "[encoded data removed]",
            "text/plain": [
              "<Figure size 576x576 with 1 Axes>"
            ]
          },
          "metadata": {
            "tags": []
          }
        },
        {
          "output_type": "display_data",
          "data": {
            "text/plain": [
              "<Figure size 1080x1080 with 0 Axes>"
            ]
          },
          "metadata": {
            "tags": []
          }
        }
      ]
    },
    {
      "cell_type": "code",
      "metadata": {
        "id": "WUXgCds7iVDW",
        "outputId": "eaffcc14-4381-4c8a-cc31-e8c57a025fbd",
        "colab": {
          "base_uri": "https://localhost:8080/"
        }
      },
      "source": [
        "train_df['STATE'].value_counts(normalize=True)"
      ],
      "execution_count": 15,
      "outputs": [
        {
          "output_type": "execute_result",
          "data": {
            "text/plain": [
              "Maharashtra                    0.146453\n",
              "Tamil Nadu                     0.118907\n",
              "Uttar Pradesh                  0.109333\n",
              "Karnataka                      0.077927\n",
              "Gujarat                        0.052427\n",
              "West Bengal                    0.051673\n",
              "Telangana                      0.031887\n",
              "Andhra Pradesh                 0.031873\n",
              "Rajasthan                      0.030807\n",
              "Kerala                         0.024787\n",
              "Madhya Pradesh                 0.024533\n",
              "Delhi                          0.023813\n",
              "Bihar                          0.021500\n",
              "Haryana                        0.021313\n",
              "Punjab                         0.020753\n",
              "Odisha                         0.018487\n",
              "Assam                          0.017587\n",
              "Chhattisgarh                   0.015773\n",
              "Jharkhand                      0.014947\n",
              "Uttarakhand                    0.013227\n",
              "Jammu and Kashmir              0.013080\n",
              "unknown                        0.012280\n",
              "Himachal Pradesh               0.011753\n",
              "Tripura                        0.011567\n",
              "Goa                            0.011567\n",
              "Chandigarh                     0.010553\n",
              "Puducherry                     0.010020\n",
              "Meghalaya                      0.008207\n",
              "Sikkim                         0.008000\n",
              "Nagaland                       0.007553\n",
              "Manipur                        0.007387\n",
              "Arunachal Pradesh              0.007100\n",
              "Mizoram                        0.006560\n",
              "Andaman and Nicobar Islands    0.006367\n",
              "Name: STATE, dtype: float64"
            ]
          },
          "metadata": {
            "tags": []
          },
          "execution_count": 15
        }
      ]
    },
    {
      "cell_type": "code",
      "metadata": {
        "id": "Mb5caNYmiVDX",
        "outputId": "26e415f6-7e00-4acb-a9e4-d97d92a43806",
        "colab": {
          "base_uri": "https://localhost:8080/"
        }
      },
      "source": [
        "# merging labels if they are less than threshold (< 0.05)\n",
        "counts = train_df['STATE'].value_counts(normalize=True)\n",
        "labels_less_then_threshold = counts[counts < 0.05].index.to_list()\n",
        "where_to_replace = train_df['STATE'].isin(labels_less_then_threshold).copy()\n",
        "train_df.loc[where_to_replace, 'STATE'] = 'merged'\n",
        "print(labels_less_then_threshold)"
      ],
      "execution_count": 16,
      "outputs": [
        {
          "output_type": "stream",
          "text": [
            "['Telangana', 'Andhra Pradesh', 'Rajasthan', 'Kerala', 'Madhya Pradesh', 'Delhi', 'Bihar', 'Haryana', 'Punjab', 'Odisha', 'Assam', 'Chhattisgarh', 'Jharkhand', 'Uttarakhand', 'Jammu and Kashmir', 'unknown', 'Himachal Pradesh', 'Tripura', 'Goa', 'Chandigarh', 'Puducherry', 'Meghalaya', 'Sikkim', 'Nagaland', 'Manipur', 'Arunachal Pradesh', 'Mizoram', 'Andaman and Nicobar Islands']\n"
          ],
          "name": "stdout"
        }
      ]
    },
    {
      "cell_type": "code",
      "metadata": {
        "id": "6WhDfCXuiVDX",
        "outputId": "d1c6810b-50e8-479d-d9cd-851a9fe8f62a",
        "colab": {
          "base_uri": "https://localhost:8080/",
          "height": 651
        }
      },
      "source": [
        "plt.figure(figsize=(15, 10))\n",
        "sns.countplot(x='STATE', data=train_df, hue='PURCHASE')\n",
        "plt.tick_params(labelrotation=45)\n",
        "plt.show()"
      ],
      "execution_count": 17,
      "outputs": [
        {
          "output_type": "display_data",
          "data": {
            "image/png": "[encoded data removed]",
            "text/plain": [
              "<Figure size 1080x720 with 1 Axes>"
            ]
          },
          "metadata": {
            "tags": [],
            "needs_background": "light"
          }
        }
      ]
    },
    {
      "cell_type": "code",
      "metadata": {
        "id": "hpK1e3YyiVDY",
        "outputId": "298728e9-2157-4f77-b591-305b1231d2a2",
        "colab": {
          "base_uri": "https://localhost:8080/",
          "height": 500
        }
      },
      "source": [
        "plt.figure(figsize=(8, 8))\n",
        "train_df['STATE'].value_counts().plot.pie(autopct=\"%.1f%%\")\n",
        "plt.figure(figsize=[15,15])"
      ],
      "execution_count": 18,
      "outputs": [
        {
          "output_type": "execute_result",
          "data": {
            "text/plain": [
              "<Figure size 1080x1080 with 0 Axes>"
            ]
          },
          "metadata": {
            "tags": []
          },
          "execution_count": 18
        },
        {
          "output_type": "display_data",
          "data": {
            "image/png": "[encoded data removed]",
            "text/plain": [
              "<Figure size 576x576 with 1 Axes>"
            ]
          },
          "metadata": {
            "tags": []
          }
        },
        {
          "output_type": "display_data",
          "data": {
            "text/plain": [
              "<Figure size 1080x1080 with 0 Axes>"
            ]
          },
          "metadata": {
            "tags": []
          }
        }
      ]
    },
    {
      "cell_type": "code",
      "metadata": {
        "id": "nZXmiTVeiVDZ",
        "outputId": "eada30f7-be20-40cc-bbb8-12447b19addd",
        "colab": {
          "base_uri": "https://localhost:8080/",
          "height": 204
        }
      },
      "source": [
        "from sklearn.preprocessing import OneHotEncoder\n",
        "One_Hot_Encoder = OneHotEncoder()\n",
        "\n",
        "# As STATE is Nominal Categorical data we will perform OneHotEncoding\n",
        "STATE = pd.DataFrame(One_Hot_Encoder.fit_transform(train_df[[\"STATE\"]]).toarray())\n",
        "STATE.columns = One_Hot_Encoder.get_feature_names(['STATE'])\n",
        "STATE.head()"
      ],
      "execution_count": 19,
      "outputs": [
        {
          "output_type": "execute_result",
          "data": {
            "text/html": [
              "<div>\n",
              "<style scoped>\n",
              "    .dataframe tbody tr th:only-of-type {\n",
              "        vertical-align: middle;\n",
              "    }\n",
              "\n",
              "    .dataframe tbody tr th {\n",
              "        vertical-align: top;\n",
              "    }\n",
              "\n",
              "    .dataframe thead th {\n",
              "        text-align: right;\n",
              "    }\n",
              "</style>\n",
              "<table border=\"1\" class=\"dataframe\">\n",
              "  <thead>\n",
              "    <tr style=\"text-align: right;\">\n",
              "      <th></th>\n",
              "      <th>STATE_Gujarat</th>\n",
              "      <th>STATE_Karnataka</th>\n",
              "      <th>STATE_Maharashtra</th>\n",
              "      <th>STATE_Tamil Nadu</th>\n",
              "      <th>STATE_Uttar Pradesh</th>\n",
              "      <th>STATE_West Bengal</th>\n",
              "      <th>STATE_merged</th>\n",
              "    </tr>\n",
              "  </thead>\n",
              "  <tbody>\n",
              "    <tr>\n",
              "      <th>0</th>\n",
              "      <td>0.0</td>\n",
              "      <td>0.0</td>\n",
              "      <td>0.0</td>\n",
              "      <td>0.0</td>\n",
              "      <td>1.0</td>\n",
              "      <td>0.0</td>\n",
              "      <td>0.0</td>\n",
              "    </tr>\n",
              "    <tr>\n",
              "      <th>1</th>\n",
              "      <td>0.0</td>\n",
              "      <td>0.0</td>\n",
              "      <td>0.0</td>\n",
              "      <td>0.0</td>\n",
              "      <td>0.0</td>\n",
              "      <td>0.0</td>\n",
              "      <td>1.0</td>\n",
              "    </tr>\n",
              "    <tr>\n",
              "      <th>2</th>\n",
              "      <td>0.0</td>\n",
              "      <td>0.0</td>\n",
              "      <td>0.0</td>\n",
              "      <td>0.0</td>\n",
              "      <td>0.0</td>\n",
              "      <td>1.0</td>\n",
              "      <td>0.0</td>\n",
              "    </tr>\n",
              "    <tr>\n",
              "      <th>3</th>\n",
              "      <td>0.0</td>\n",
              "      <td>0.0</td>\n",
              "      <td>0.0</td>\n",
              "      <td>1.0</td>\n",
              "      <td>0.0</td>\n",
              "      <td>0.0</td>\n",
              "      <td>0.0</td>\n",
              "    </tr>\n",
              "    <tr>\n",
              "      <th>4</th>\n",
              "      <td>0.0</td>\n",
              "      <td>0.0</td>\n",
              "      <td>0.0</td>\n",
              "      <td>0.0</td>\n",
              "      <td>1.0</td>\n",
              "      <td>0.0</td>\n",
              "      <td>0.0</td>\n",
              "    </tr>\n",
              "  </tbody>\n",
              "</table>\n",
              "</div>"
            ],
            "text/plain": [
              "   STATE_Gujarat  STATE_Karnataka  STATE_Maharashtra  STATE_Tamil Nadu  \\\n",
              "0            0.0              0.0                0.0               0.0   \n",
              "1            0.0              0.0                0.0               0.0   \n",
              "2            0.0              0.0                0.0               0.0   \n",
              "3            0.0              0.0                0.0               1.0   \n",
              "4            0.0              0.0                0.0               0.0   \n",
              "\n",
              "   STATE_Uttar Pradesh  STATE_West Bengal  STATE_merged  \n",
              "0                  1.0                0.0           0.0  \n",
              "1                  0.0                0.0           1.0  \n",
              "2                  0.0                1.0           0.0  \n",
              "3                  0.0                0.0           0.0  \n",
              "4                  1.0                0.0           0.0  "
            ]
          },
          "metadata": {
            "tags": []
          },
          "execution_count": 19
        }
      ]
    },
    {
      "cell_type": "code",
      "metadata": {
        "id": "ONOxQb_piVDZ",
        "outputId": "08416be0-bdc3-4fb9-cb6d-47729ababec0",
        "colab": {
          "base_uri": "https://localhost:8080/",
          "height": 612
        }
      },
      "source": [
        "plt.figure(figsize=(15, 10))\n",
        "sns.countplot(x='AGE', data=train_df, hue='PURCHASE')\n",
        "plt.tick_params(labelrotation=45)\n",
        "plt.show()"
      ],
      "execution_count": 20,
      "outputs": [
        {
          "output_type": "display_data",
          "data": {
            "image/png": "[encoded data removed]",
            "text/plain": [
              "<Figure size 1080x720 with 1 Axes>"
            ]
          },
          "metadata": {
            "tags": [],
            "needs_background": "light"
          }
        }
      ]
    },
    {
      "cell_type": "code",
      "metadata": {
        "id": "hcubSw60iVDa",
        "outputId": "725d48f9-fc63-4e94-a88b-90be14b0323b",
        "colab": {
          "base_uri": "https://localhost:8080/",
          "height": 285
        }
      },
      "source": [
        "#plt.figure(figsize=(15, 10))\n",
        "sns.countplot(x='AGE', data=train_df)\n",
        "plt.tick_params(labelrotation=45)\n",
        "plt.show()"
      ],
      "execution_count": 21,
      "outputs": [
        {
          "output_type": "display_data",
          "data": {
            "image/png": "[encoded data removed]",
            "text/plain": [
              "<Figure size 432x288 with 1 Axes>"
            ]
          },
          "metadata": {
            "tags": [],
            "needs_background": "light"
          }
        }
      ]
    },
    {
      "cell_type": "code",
      "metadata": {
        "id": "KLPDXKKdiVDa",
        "outputId": "277b5d28-2c8e-4380-bfa6-b1b99669ad0f",
        "colab": {
          "base_uri": "https://localhost:8080/",
          "height": 327
        }
      },
      "source": [
        "sns.countplot(x='OCCUPATION', data=train_df, hue='PURCHASE')\n",
        "plt.tick_params(labelrotation=45)\n",
        "plt.show()"
      ],
      "execution_count": 22,
      "outputs": [
        {
          "output_type": "display_data",
          "data": {
            "image/png": "[encoded data removed]",
            "text/plain": [
              "<Figure size 432x288 with 1 Axes>"
            ]
          },
          "metadata": {
            "tags": [],
            "needs_background": "light"
          }
        }
      ]
    },
    {
      "cell_type": "code",
      "metadata": {
        "id": "VPydOQwdiVDb",
        "outputId": "9a6b0e96-8430-44b9-934b-e37e3b20ecd5",
        "colab": {
          "base_uri": "https://localhost:8080/",
          "height": 248
        }
      },
      "source": [
        "train_df['OCCUPATION'].value_counts().plot.pie(autopct=\"%.1f%%\")\n",
        "plt.show()"
      ],
      "execution_count": 23,
      "outputs": [
        {
          "output_type": "display_data",
          "data": {
            "image/png": "[encoded data removed]",
            "text/plain": [
              "<Figure size 432x288 with 1 Axes>"
            ]
          },
          "metadata": {
            "tags": []
          }
        }
      ]
    },
    {
      "cell_type": "code",
      "metadata": {
        "id": "K126-L-tiVDb",
        "outputId": "6c961efa-ca76-429f-98cd-2532b9f3876e",
        "colab": {
          "base_uri": "https://localhost:8080/",
          "height": 204
        }
      },
      "source": [
        "# As OCCUPATION is Nominal Categorical data we will perform OneHotEncoding\n",
        "OCCUPATION = pd.DataFrame(One_Hot_Encoder.fit_transform(train_df[[\"OCCUPATION\"]]).toarray())\n",
        "OCCUPATION.columns = One_Hot_Encoder.get_feature_names(['OCCUPATION'])\n",
        "OCCUPATION.head()"
      ],
      "execution_count": 24,
      "outputs": [
        {
          "output_type": "execute_result",
          "data": {
            "text/html": [
              "<div>\n",
              "<style scoped>\n",
              "    .dataframe tbody tr th:only-of-type {\n",
              "        vertical-align: middle;\n",
              "    }\n",
              "\n",
              "    .dataframe tbody tr th {\n",
              "        vertical-align: top;\n",
              "    }\n",
              "\n",
              "    .dataframe thead th {\n",
              "        text-align: right;\n",
              "    }\n",
              "</style>\n",
              "<table border=\"1\" class=\"dataframe\">\n",
              "  <thead>\n",
              "    <tr style=\"text-align: right;\">\n",
              "      <th></th>\n",
              "      <th>OCCUPATION_Business</th>\n",
              "      <th>OCCUPATION_Salaried</th>\n",
              "      <th>OCCUPATION_Self employed</th>\n",
              "      <th>OCCUPATION_unknown</th>\n",
              "    </tr>\n",
              "  </thead>\n",
              "  <tbody>\n",
              "    <tr>\n",
              "      <th>0</th>\n",
              "      <td>0.0</td>\n",
              "      <td>0.0</td>\n",
              "      <td>0.0</td>\n",
              "      <td>1.0</td>\n",
              "    </tr>\n",
              "    <tr>\n",
              "      <th>1</th>\n",
              "      <td>0.0</td>\n",
              "      <td>1.0</td>\n",
              "      <td>0.0</td>\n",
              "      <td>0.0</td>\n",
              "    </tr>\n",
              "    <tr>\n",
              "      <th>2</th>\n",
              "      <td>0.0</td>\n",
              "      <td>0.0</td>\n",
              "      <td>0.0</td>\n",
              "      <td>1.0</td>\n",
              "    </tr>\n",
              "    <tr>\n",
              "      <th>3</th>\n",
              "      <td>0.0</td>\n",
              "      <td>1.0</td>\n",
              "      <td>0.0</td>\n",
              "      <td>0.0</td>\n",
              "    </tr>\n",
              "    <tr>\n",
              "      <th>4</th>\n",
              "      <td>0.0</td>\n",
              "      <td>0.0</td>\n",
              "      <td>1.0</td>\n",
              "      <td>0.0</td>\n",
              "    </tr>\n",
              "  </tbody>\n",
              "</table>\n",
              "</div>"
            ],
            "text/plain": [
              "   OCCUPATION_Business  OCCUPATION_Salaried  OCCUPATION_Self employed  \\\n",
              "0                  0.0                  0.0                       0.0   \n",
              "1                  0.0                  1.0                       0.0   \n",
              "2                  0.0                  0.0                       0.0   \n",
              "3                  0.0                  1.0                       0.0   \n",
              "4                  0.0                  0.0                       1.0   \n",
              "\n",
              "   OCCUPATION_unknown  \n",
              "0                 1.0  \n",
              "1                 0.0  \n",
              "2                 1.0  \n",
              "3                 0.0  \n",
              "4                 0.0  "
            ]
          },
          "metadata": {
            "tags": []
          },
          "execution_count": 24
        }
      ]
    },
    {
      "cell_type": "code",
      "metadata": {
        "id": "VqPfyxhJiVDb",
        "outputId": "13b76f61-6c6b-4080-cc63-4004d5da7a68",
        "colab": {
          "base_uri": "https://localhost:8080/",
          "height": 311
        }
      },
      "source": [
        "sns.countplot(x='INCOME_GROUP', data=train_df, hue='PURCHASE')\n",
        "plt.tick_params(labelrotation=45)\n",
        "plt.show()"
      ],
      "execution_count": 25,
      "outputs": [
        {
          "output_type": "display_data",
          "data": {
            "image/png": "[encoded data removed]",
            "text/plain": [
              "<Figure size 432x288 with 1 Axes>"
            ]
          },
          "metadata": {
            "tags": [],
            "needs_background": "light"
          }
        }
      ]
    },
    {
      "cell_type": "code",
      "metadata": {
        "id": "OZgOaEz8iVDc",
        "outputId": "08b18761-aa89-44a4-aba2-65ab1a18f675",
        "colab": {
          "base_uri": "https://localhost:8080/",
          "height": 248
        }
      },
      "source": [
        "train_df['INCOME_GROUP'].value_counts().plot.pie(autopct=\"%.1f%%\")\n",
        "plt.show()"
      ],
      "execution_count": 26,
      "outputs": [
        {
          "output_type": "display_data",
          "data": {
            "image/png": "[encoded data removed]",
            "text/plain": [
              "<Figure size 432x288 with 1 Axes>"
            ]
          },
          "metadata": {
            "tags": []
          }
        }
      ]
    },
    {
      "cell_type": "code",
      "metadata": {
        "scrolled": true,
        "id": "88sJGiQ_iVDc",
        "outputId": "ee53cbe3-8cce-432a-ad69-8f7bb5aaf81d",
        "colab": {
          "base_uri": "https://localhost:8080/",
          "height": 204
        }
      },
      "source": [
        "# As INCOME_GROUP is Nominal Categorical data we will perform OneHotEncoding\n",
        "INCOME_GROUP = pd.DataFrame(One_Hot_Encoder.fit_transform(train_df[[\"INCOME_GROUP\"]]).toarray())\n",
        "INCOME_GROUP.columns = One_Hot_Encoder.get_feature_names(['INCOME_GROUP'])\n",
        "INCOME_GROUP.head()"
      ],
      "execution_count": 27,
      "outputs": [
        {
          "output_type": "execute_result",
          "data": {
            "text/html": [
              "<div>\n",
              "<style scoped>\n",
              "    .dataframe tbody tr th:only-of-type {\n",
              "        vertical-align: middle;\n",
              "    }\n",
              "\n",
              "    .dataframe tbody tr th {\n",
              "        vertical-align: top;\n",
              "    }\n",
              "\n",
              "    .dataframe thead th {\n",
              "        text-align: right;\n",
              "    }\n",
              "</style>\n",
              "<table border=\"1\" class=\"dataframe\">\n",
              "  <thead>\n",
              "    <tr style=\"text-align: right;\">\n",
              "      <th></th>\n",
              "      <th>INCOME_GROUP_High</th>\n",
              "      <th>INCOME_GROUP_Low</th>\n",
              "      <th>INCOME_GROUP_Medium</th>\n",
              "      <th>INCOME_GROUP_unknown</th>\n",
              "    </tr>\n",
              "  </thead>\n",
              "  <tbody>\n",
              "    <tr>\n",
              "      <th>0</th>\n",
              "      <td>0.0</td>\n",
              "      <td>1.0</td>\n",
              "      <td>0.0</td>\n",
              "      <td>0.0</td>\n",
              "    </tr>\n",
              "    <tr>\n",
              "      <th>1</th>\n",
              "      <td>0.0</td>\n",
              "      <td>1.0</td>\n",
              "      <td>0.0</td>\n",
              "      <td>0.0</td>\n",
              "    </tr>\n",
              "    <tr>\n",
              "      <th>2</th>\n",
              "      <td>1.0</td>\n",
              "      <td>0.0</td>\n",
              "      <td>0.0</td>\n",
              "      <td>0.0</td>\n",
              "    </tr>\n",
              "    <tr>\n",
              "      <th>3</th>\n",
              "      <td>0.0</td>\n",
              "      <td>1.0</td>\n",
              "      <td>0.0</td>\n",
              "      <td>0.0</td>\n",
              "    </tr>\n",
              "    <tr>\n",
              "      <th>4</th>\n",
              "      <td>1.0</td>\n",
              "      <td>0.0</td>\n",
              "      <td>0.0</td>\n",
              "      <td>0.0</td>\n",
              "    </tr>\n",
              "  </tbody>\n",
              "</table>\n",
              "</div>"
            ],
            "text/plain": [
              "   INCOME_GROUP_High  INCOME_GROUP_Low  INCOME_GROUP_Medium  \\\n",
              "0                0.0               1.0                  0.0   \n",
              "1                0.0               1.0                  0.0   \n",
              "2                1.0               0.0                  0.0   \n",
              "3                0.0               1.0                  0.0   \n",
              "4                1.0               0.0                  0.0   \n",
              "\n",
              "   INCOME_GROUP_unknown  \n",
              "0                   0.0  \n",
              "1                   0.0  \n",
              "2                   0.0  \n",
              "3                   0.0  \n",
              "4                   0.0  "
            ]
          },
          "metadata": {
            "tags": []
          },
          "execution_count": 27
        }
      ]
    },
    {
      "cell_type": "code",
      "metadata": {
        "scrolled": true,
        "id": "TPZW7wIWiVDc",
        "outputId": "9992f793-853a-44b3-f036-796ca8ec2eb9",
        "colab": {
          "base_uri": "https://localhost:8080/",
          "height": 406
        }
      },
      "source": [
        "plt.figure(figsize=(12, 6))\n",
        "sns.countplot(x='CUSTOMER_SINCE', data=train_df, hue='PURCHASE')\n",
        "plt.tick_params(labelrotation=45)\n",
        "plt.show()"
      ],
      "execution_count": 28,
      "outputs": [
        {
          "output_type": "display_data",
          "data": {
            "image/png": "[encoded data removed]",
            "text/plain": [
              "<Figure size 864x432 with 1 Axes>"
            ]
          },
          "metadata": {
            "tags": [],
            "needs_background": "light"
          }
        }
      ]
    },
    {
      "cell_type": "code",
      "metadata": {
        "id": "ZEpFkTLQiVDd",
        "outputId": "0d1cdd3b-be1a-425f-ddc4-2f5498cda2ed",
        "colab": {
          "base_uri": "https://localhost:8080/",
          "height": 248
        }
      },
      "source": [
        "train_df['CUSTOMER_SINCE'].value_counts().plot.pie(autopct=\"%.1f%%\")\n",
        "plt.show()"
      ],
      "execution_count": 29,
      "outputs": [
        {
          "output_type": "display_data",
          "data": {
            "image/png": "[encoded data removed]",
            "text/plain": [
              "<Figure size 432x288 with 1 Axes>"
            ]
          },
          "metadata": {
            "tags": []
          }
        }
      ]
    },
    {
      "cell_type": "code",
      "metadata": {
        "id": "5fCPy7NIiVDd",
        "outputId": "69822ed3-f1ad-4b4b-c057-bbd690007501",
        "colab": {
          "base_uri": "https://localhost:8080/",
          "height": 309
        }
      },
      "source": [
        "sns.countplot(x='LOYALTY_PROGRAM', data=train_df, hue='PURCHASE')\n",
        "plt.tick_params(labelrotation=45)\n",
        "plt.show()"
      ],
      "execution_count": 30,
      "outputs": [
        {
          "output_type": "display_data",
          "data": {
            "image/png": "[encoded data removed]",
            "text/plain": [
              "<Figure size 432x288 with 1 Axes>"
            ]
          },
          "metadata": {
            "tags": [],
            "needs_background": "light"
          }
        }
      ]
    },
    {
      "cell_type": "code",
      "metadata": {
        "id": "SyVqBfP-iVDe",
        "outputId": "b27cafc3-338d-4981-fa64-276b0bde85fa",
        "colab": {
          "base_uri": "https://localhost:8080/",
          "height": 248
        }
      },
      "source": [
        "train_df['LOYALTY_PROGRAM'].value_counts().plot.pie(autopct=\"%.1f%%\")\n",
        "plt.show()"
      ],
      "execution_count": 31,
      "outputs": [
        {
          "output_type": "display_data",
          "data": {
            "image/png": "[encoded data removed]",
            "text/plain": [
              "<Figure size 432x288 with 1 Axes>"
            ]
          },
          "metadata": {
            "tags": []
          }
        }
      ]
    },
    {
      "cell_type": "code",
      "metadata": {
        "id": "qyi-H5CZiVDe",
        "outputId": "660b973a-344e-48fb-9da7-f1a3d92abfac",
        "colab": {
          "base_uri": "https://localhost:8080/",
          "height": 204
        }
      },
      "source": [
        "# As LOYALTY_PROGRAM is Nominal Categorical data we will perform OneHotEncoding\n",
        "LOYALTY_PROGRAM = pd.DataFrame(One_Hot_Encoder.fit_transform(train_df[[\"LOYALTY_PROGRAM\"]]).toarray())\n",
        "LOYALTY_PROGRAM.columns = One_Hot_Encoder.get_feature_names(['LOYALTY_PROGRAM'])\n",
        "LOYALTY_PROGRAM.head()"
      ],
      "execution_count": 32,
      "outputs": [
        {
          "output_type": "execute_result",
          "data": {
            "text/html": [
              "<div>\n",
              "<style scoped>\n",
              "    .dataframe tbody tr th:only-of-type {\n",
              "        vertical-align: middle;\n",
              "    }\n",
              "\n",
              "    .dataframe tbody tr th {\n",
              "        vertical-align: top;\n",
              "    }\n",
              "\n",
              "    .dataframe thead th {\n",
              "        text-align: right;\n",
              "    }\n",
              "</style>\n",
              "<table border=\"1\" class=\"dataframe\">\n",
              "  <thead>\n",
              "    <tr style=\"text-align: right;\">\n",
              "      <th></th>\n",
              "      <th>LOYALTY_PROGRAM_No</th>\n",
              "      <th>LOYALTY_PROGRAM_Yes</th>\n",
              "      <th>LOYALTY_PROGRAM_unknown</th>\n",
              "    </tr>\n",
              "  </thead>\n",
              "  <tbody>\n",
              "    <tr>\n",
              "      <th>0</th>\n",
              "      <td>1.0</td>\n",
              "      <td>0.0</td>\n",
              "      <td>0.0</td>\n",
              "    </tr>\n",
              "    <tr>\n",
              "      <th>1</th>\n",
              "      <td>1.0</td>\n",
              "      <td>0.0</td>\n",
              "      <td>0.0</td>\n",
              "    </tr>\n",
              "    <tr>\n",
              "      <th>2</th>\n",
              "      <td>0.0</td>\n",
              "      <td>0.0</td>\n",
              "      <td>1.0</td>\n",
              "    </tr>\n",
              "    <tr>\n",
              "      <th>3</th>\n",
              "      <td>1.0</td>\n",
              "      <td>0.0</td>\n",
              "      <td>0.0</td>\n",
              "    </tr>\n",
              "    <tr>\n",
              "      <th>4</th>\n",
              "      <td>1.0</td>\n",
              "      <td>0.0</td>\n",
              "      <td>0.0</td>\n",
              "    </tr>\n",
              "  </tbody>\n",
              "</table>\n",
              "</div>"
            ],
            "text/plain": [
              "   LOYALTY_PROGRAM_No  LOYALTY_PROGRAM_Yes  LOYALTY_PROGRAM_unknown\n",
              "0                 1.0                  0.0                      0.0\n",
              "1                 1.0                  0.0                      0.0\n",
              "2                 0.0                  0.0                      1.0\n",
              "3                 1.0                  0.0                      0.0\n",
              "4                 1.0                  0.0                      0.0"
            ]
          },
          "metadata": {
            "tags": []
          },
          "execution_count": 32
        }
      ]
    },
    {
      "cell_type": "code",
      "metadata": {
        "id": "wMOB5Y79iVDe",
        "outputId": "726a439e-c60d-41bd-bdd2-a48a71db1720",
        "colab": {
          "base_uri": "https://localhost:8080/",
          "height": 296
        }
      },
      "source": [
        "sns.boxplot(x='PURCHASE', y='PAST_PURCHASE', data=train_df)"
      ],
      "execution_count": 33,
      "outputs": [
        {
          "output_type": "execute_result",
          "data": {
            "text/plain": [
              "<matplotlib.axes._subplots.AxesSubplot at 0x7f8a0f65f590>"
            ]
          },
          "metadata": {
            "tags": []
          },
          "execution_count": 33
        },
        {
          "output_type": "display_data",
          "data": {
            "image/png": "[encoded data removed]",
            "text/plain": [
              "<Figure size 432x288 with 1 Axes>"
            ]
          },
          "metadata": {
            "tags": [],
            "needs_background": "light"
          }
        }
      ]
    },
    {
      "cell_type": "code",
      "metadata": {
        "id": "RT3BCoACiVDf",
        "outputId": "5291e727-f8d4-4bfe-f36a-5ba7e0947c2c",
        "colab": {
          "base_uri": "https://localhost:8080/",
          "height": 454
        }
      },
      "source": [
        "plt.figure(figsize=(14, 7))\n",
        "sns.distplot(train_df.PAST_PURCHASE)\n",
        "plt.show()"
      ],
      "execution_count": 34,
      "outputs": [
        {
          "output_type": "display_data",
          "data": {
            "image/png": "[encoded data removed]",
            "text/plain": [
              "<Figure size 1008x504 with 1 Axes>"
            ]
          },
          "metadata": {
            "tags": [],
            "needs_background": "light"
          }
        }
      ]
    },
    {
      "cell_type": "code",
      "metadata": {
        "id": "WYcgzRKsiVDf",
        "outputId": "38f726b6-3b41-4d1c-a819-71af60e31a00",
        "colab": {
          "base_uri": "https://localhost:8080/",
          "height": 248
        }
      },
      "source": [
        "train_df['PURCHASE'].value_counts().plot.pie(autopct=\"%.1f%%\")\n",
        "plt.show()"
      ],
      "execution_count": 35,
      "outputs": [
        {
          "output_type": "display_data",
          "data": {
            "image/png": "[encoded data removed]",
            "text/plain": [
              "<Figure size 432x288 with 1 Axes>"
            ]
          },
          "metadata": {
            "tags": []
          }
        }
      ]
    },
    {
      "cell_type": "code",
      "metadata": {
        "id": "OvL5SRSYiVDg",
        "outputId": "9f8ecc66-0183-4100-bb8e-cdeba61680c8",
        "colab": {
          "base_uri": "https://localhost:8080/",
          "height": 204
        }
      },
      "source": [
        "train_df.head()"
      ],
      "execution_count": 36,
      "outputs": [
        {
          "output_type": "execute_result",
          "data": {
            "text/html": [
              "<div>\n",
              "<style scoped>\n",
              "    .dataframe tbody tr th:only-of-type {\n",
              "        vertical-align: middle;\n",
              "    }\n",
              "\n",
              "    .dataframe tbody tr th {\n",
              "        vertical-align: top;\n",
              "    }\n",
              "\n",
              "    .dataframe thead th {\n",
              "        text-align: right;\n",
              "    }\n",
              "</style>\n",
              "<table border=\"1\" class=\"dataframe\">\n",
              "  <thead>\n",
              "    <tr style=\"text-align: right;\">\n",
              "      <th></th>\n",
              "      <th>ID</th>\n",
              "      <th>STATE</th>\n",
              "      <th>AGE</th>\n",
              "      <th>OCCUPATION</th>\n",
              "      <th>INCOME_GROUP</th>\n",
              "      <th>CUSTOMER_SINCE</th>\n",
              "      <th>LOYALTY_PROGRAM</th>\n",
              "      <th>PAST_PURCHASE</th>\n",
              "      <th>PURCHASE</th>\n",
              "    </tr>\n",
              "  </thead>\n",
              "  <tbody>\n",
              "    <tr>\n",
              "      <th>0</th>\n",
              "      <td>1</td>\n",
              "      <td>Uttar Pradesh</td>\n",
              "      <td>28</td>\n",
              "      <td>unknown</td>\n",
              "      <td>Low</td>\n",
              "      <td>2018</td>\n",
              "      <td>No</td>\n",
              "      <td>4937</td>\n",
              "      <td>0</td>\n",
              "    </tr>\n",
              "    <tr>\n",
              "      <th>1</th>\n",
              "      <td>2</td>\n",
              "      <td>merged</td>\n",
              "      <td>27</td>\n",
              "      <td>Salaried</td>\n",
              "      <td>Low</td>\n",
              "      <td>2018</td>\n",
              "      <td>No</td>\n",
              "      <td>10834</td>\n",
              "      <td>0</td>\n",
              "    </tr>\n",
              "    <tr>\n",
              "      <th>2</th>\n",
              "      <td>3</td>\n",
              "      <td>West Bengal</td>\n",
              "      <td>62</td>\n",
              "      <td>unknown</td>\n",
              "      <td>High</td>\n",
              "      <td>2013</td>\n",
              "      <td>unknown</td>\n",
              "      <td>8610</td>\n",
              "      <td>1</td>\n",
              "    </tr>\n",
              "    <tr>\n",
              "      <th>3</th>\n",
              "      <td>4</td>\n",
              "      <td>Tamil Nadu</td>\n",
              "      <td>27</td>\n",
              "      <td>Salaried</td>\n",
              "      <td>Low</td>\n",
              "      <td>2018</td>\n",
              "      <td>No</td>\n",
              "      <td>14374</td>\n",
              "      <td>1</td>\n",
              "    </tr>\n",
              "    <tr>\n",
              "      <th>4</th>\n",
              "      <td>5</td>\n",
              "      <td>Uttar Pradesh</td>\n",
              "      <td>40</td>\n",
              "      <td>Self employed</td>\n",
              "      <td>High</td>\n",
              "      <td>2015</td>\n",
              "      <td>No</td>\n",
              "      <td>13158</td>\n",
              "      <td>0</td>\n",
              "    </tr>\n",
              "  </tbody>\n",
              "</table>\n",
              "</div>"
            ],
            "text/plain": [
              "   ID          STATE  AGE     OCCUPATION INCOME_GROUP  CUSTOMER_SINCE  \\\n",
              "0   1  Uttar Pradesh   28        unknown          Low            2018   \n",
              "1   2         merged   27       Salaried          Low            2018   \n",
              "2   3    West Bengal   62        unknown         High            2013   \n",
              "3   4     Tamil Nadu   27       Salaried          Low            2018   \n",
              "4   5  Uttar Pradesh   40  Self employed         High            2015   \n",
              "\n",
              "  LOYALTY_PROGRAM  PAST_PURCHASE  PURCHASE  \n",
              "0              No           4937         0  \n",
              "1              No          10834         0  \n",
              "2         unknown           8610         1  \n",
              "3              No          14374         1  \n",
              "4              No          13158         0  "
            ]
          },
          "metadata": {
            "tags": []
          },
          "execution_count": 36
        }
      ]
    },
    {
      "cell_type": "code",
      "metadata": {
        "id": "-S1gni1IiVDg"
      },
      "source": [
        "# Concatenate dataframe --> train_df + STATE + OCCUPATION + INCOME_GROUP + LOYALTY_PROGRAM\n",
        "train_df = pd.concat([train_df, STATE, OCCUPATION, INCOME_GROUP, LOYALTY_PROGRAM], axis = 1)"
      ],
      "execution_count": 37,
      "outputs": []
    },
    {
      "cell_type": "code",
      "metadata": {
        "id": "6WT8df2jiVDg",
        "outputId": "02ad1db9-7e4d-4e3f-f38d-eb45d7ed5fbc",
        "colab": {
          "base_uri": "https://localhost:8080/",
          "height": 326
        }
      },
      "source": [
        "print(train_df.shape)\n",
        "train_df.head()"
      ],
      "execution_count": 38,
      "outputs": [
        {
          "output_type": "stream",
          "text": [
            "(150000, 27)\n"
          ],
          "name": "stdout"
        },
        {
          "output_type": "execute_result",
          "data": {
            "text/html": [
              "<div>\n",
              "<style scoped>\n",
              "    .dataframe tbody tr th:only-of-type {\n",
              "        vertical-align: middle;\n",
              "    }\n",
              "\n",
              "    .dataframe tbody tr th {\n",
              "        vertical-align: top;\n",
              "    }\n",
              "\n",
              "    .dataframe thead th {\n",
              "        text-align: right;\n",
              "    }\n",
              "</style>\n",
              "<table border=\"1\" class=\"dataframe\">\n",
              "  <thead>\n",
              "    <tr style=\"text-align: right;\">\n",
              "      <th></th>\n",
              "      <th>ID</th>\n",
              "      <th>STATE</th>\n",
              "      <th>AGE</th>\n",
              "      <th>OCCUPATION</th>\n",
              "      <th>INCOME_GROUP</th>\n",
              "      <th>CUSTOMER_SINCE</th>\n",
              "      <th>LOYALTY_PROGRAM</th>\n",
              "      <th>PAST_PURCHASE</th>\n",
              "      <th>PURCHASE</th>\n",
              "      <th>STATE_Gujarat</th>\n",
              "      <th>STATE_Karnataka</th>\n",
              "      <th>STATE_Maharashtra</th>\n",
              "      <th>STATE_Tamil Nadu</th>\n",
              "      <th>STATE_Uttar Pradesh</th>\n",
              "      <th>STATE_West Bengal</th>\n",
              "      <th>STATE_merged</th>\n",
              "      <th>OCCUPATION_Business</th>\n",
              "      <th>OCCUPATION_Salaried</th>\n",
              "      <th>OCCUPATION_Self employed</th>\n",
              "      <th>OCCUPATION_unknown</th>\n",
              "      <th>INCOME_GROUP_High</th>\n",
              "      <th>INCOME_GROUP_Low</th>\n",
              "      <th>INCOME_GROUP_Medium</th>\n",
              "      <th>INCOME_GROUP_unknown</th>\n",
              "      <th>LOYALTY_PROGRAM_No</th>\n",
              "      <th>LOYALTY_PROGRAM_Yes</th>\n",
              "      <th>LOYALTY_PROGRAM_unknown</th>\n",
              "    </tr>\n",
              "  </thead>\n",
              "  <tbody>\n",
              "    <tr>\n",
              "      <th>0</th>\n",
              "      <td>1</td>\n",
              "      <td>Uttar Pradesh</td>\n",
              "      <td>28</td>\n",
              "      <td>unknown</td>\n",
              "      <td>Low</td>\n",
              "      <td>2018</td>\n",
              "      <td>No</td>\n",
              "      <td>4937</td>\n",
              "      <td>0</td>\n",
              "      <td>0.0</td>\n",
              "      <td>0.0</td>\n",
              "      <td>0.0</td>\n",
              "      <td>0.0</td>\n",
              "      <td>1.0</td>\n",
              "      <td>0.0</td>\n",
              "      <td>0.0</td>\n",
              "      <td>0.0</td>\n",
              "      <td>0.0</td>\n",
              "      <td>0.0</td>\n",
              "      <td>1.0</td>\n",
              "      <td>0.0</td>\n",
              "      <td>1.0</td>\n",
              "      <td>0.0</td>\n",
              "      <td>0.0</td>\n",
              "      <td>1.0</td>\n",
              "      <td>0.0</td>\n",
              "      <td>0.0</td>\n",
              "    </tr>\n",
              "    <tr>\n",
              "      <th>1</th>\n",
              "      <td>2</td>\n",
              "      <td>merged</td>\n",
              "      <td>27</td>\n",
              "      <td>Salaried</td>\n",
              "      <td>Low</td>\n",
              "      <td>2018</td>\n",
              "      <td>No</td>\n",
              "      <td>10834</td>\n",
              "      <td>0</td>\n",
              "      <td>0.0</td>\n",
              "      <td>0.0</td>\n",
              "      <td>0.0</td>\n",
              "      <td>0.0</td>\n",
              "      <td>0.0</td>\n",
              "      <td>0.0</td>\n",
              "      <td>1.0</td>\n",
              "      <td>0.0</td>\n",
              "      <td>1.0</td>\n",
              "      <td>0.0</td>\n",
              "      <td>0.0</td>\n",
              "      <td>0.0</td>\n",
              "      <td>1.0</td>\n",
              "      <td>0.0</td>\n",
              "      <td>0.0</td>\n",
              "      <td>1.0</td>\n",
              "      <td>0.0</td>\n",
              "      <td>0.0</td>\n",
              "    </tr>\n",
              "    <tr>\n",
              "      <th>2</th>\n",
              "      <td>3</td>\n",
              "      <td>West Bengal</td>\n",
              "      <td>62</td>\n",
              "      <td>unknown</td>\n",
              "      <td>High</td>\n",
              "      <td>2013</td>\n",
              "      <td>unknown</td>\n",
              "      <td>8610</td>\n",
              "      <td>1</td>\n",
              "      <td>0.0</td>\n",
              "      <td>0.0</td>\n",
              "      <td>0.0</td>\n",
              "      <td>0.0</td>\n",
              "      <td>0.0</td>\n",
              "      <td>1.0</td>\n",
              "      <td>0.0</td>\n",
              "      <td>0.0</td>\n",
              "      <td>0.0</td>\n",
              "      <td>0.0</td>\n",
              "      <td>1.0</td>\n",
              "      <td>1.0</td>\n",
              "      <td>0.0</td>\n",
              "      <td>0.0</td>\n",
              "      <td>0.0</td>\n",
              "      <td>0.0</td>\n",
              "      <td>0.0</td>\n",
              "      <td>1.0</td>\n",
              "    </tr>\n",
              "    <tr>\n",
              "      <th>3</th>\n",
              "      <td>4</td>\n",
              "      <td>Tamil Nadu</td>\n",
              "      <td>27</td>\n",
              "      <td>Salaried</td>\n",
              "      <td>Low</td>\n",
              "      <td>2018</td>\n",
              "      <td>No</td>\n",
              "      <td>14374</td>\n",
              "      <td>1</td>\n",
              "      <td>0.0</td>\n",
              "      <td>0.0</td>\n",
              "      <td>0.0</td>\n",
              "      <td>1.0</td>\n",
              "      <td>0.0</td>\n",
              "      <td>0.0</td>\n",
              "      <td>0.0</td>\n",
              "      <td>0.0</td>\n",
              "      <td>1.0</td>\n",
              "      <td>0.0</td>\n",
              "      <td>0.0</td>\n",
              "      <td>0.0</td>\n",
              "      <td>1.0</td>\n",
              "      <td>0.0</td>\n",
              "      <td>0.0</td>\n",
              "      <td>1.0</td>\n",
              "      <td>0.0</td>\n",
              "      <td>0.0</td>\n",
              "    </tr>\n",
              "    <tr>\n",
              "      <th>4</th>\n",
              "      <td>5</td>\n",
              "      <td>Uttar Pradesh</td>\n",
              "      <td>40</td>\n",
              "      <td>Self employed</td>\n",
              "      <td>High</td>\n",
              "      <td>2015</td>\n",
              "      <td>No</td>\n",
              "      <td>13158</td>\n",
              "      <td>0</td>\n",
              "      <td>0.0</td>\n",
              "      <td>0.0</td>\n",
              "      <td>0.0</td>\n",
              "      <td>0.0</td>\n",
              "      <td>1.0</td>\n",
              "      <td>0.0</td>\n",
              "      <td>0.0</td>\n",
              "      <td>0.0</td>\n",
              "      <td>0.0</td>\n",
              "      <td>1.0</td>\n",
              "      <td>0.0</td>\n",
              "      <td>1.0</td>\n",
              "      <td>0.0</td>\n",
              "      <td>0.0</td>\n",
              "      <td>0.0</td>\n",
              "      <td>1.0</td>\n",
              "      <td>0.0</td>\n",
              "      <td>0.0</td>\n",
              "    </tr>\n",
              "  </tbody>\n",
              "</table>\n",
              "</div>"
            ],
            "text/plain": [
              "   ID          STATE  AGE     OCCUPATION INCOME_GROUP  CUSTOMER_SINCE  \\\n",
              "0   1  Uttar Pradesh   28        unknown          Low            2018   \n",
              "1   2         merged   27       Salaried          Low            2018   \n",
              "2   3    West Bengal   62        unknown         High            2013   \n",
              "3   4     Tamil Nadu   27       Salaried          Low            2018   \n",
              "4   5  Uttar Pradesh   40  Self employed         High            2015   \n",
              "\n",
              "  LOYALTY_PROGRAM  PAST_PURCHASE  PURCHASE  STATE_Gujarat  STATE_Karnataka  \\\n",
              "0              No           4937         0            0.0              0.0   \n",
              "1              No          10834         0            0.0              0.0   \n",
              "2         unknown           8610         1            0.0              0.0   \n",
              "3              No          14374         1            0.0              0.0   \n",
              "4              No          13158         0            0.0              0.0   \n",
              "\n",
              "   STATE_Maharashtra  STATE_Tamil Nadu  STATE_Uttar Pradesh  \\\n",
              "0                0.0               0.0                  1.0   \n",
              "1                0.0               0.0                  0.0   \n",
              "2                0.0               0.0                  0.0   \n",
              "3                0.0               1.0                  0.0   \n",
              "4                0.0               0.0                  1.0   \n",
              "\n",
              "   STATE_West Bengal  STATE_merged  OCCUPATION_Business  OCCUPATION_Salaried  \\\n",
              "0                0.0           0.0                  0.0                  0.0   \n",
              "1                0.0           1.0                  0.0                  1.0   \n",
              "2                1.0           0.0                  0.0                  0.0   \n",
              "3                0.0           0.0                  0.0                  1.0   \n",
              "4                0.0           0.0                  0.0                  0.0   \n",
              "\n",
              "   OCCUPATION_Self employed  OCCUPATION_unknown  INCOME_GROUP_High  \\\n",
              "0                       0.0                 1.0                0.0   \n",
              "1                       0.0                 0.0                0.0   \n",
              "2                       0.0                 1.0                1.0   \n",
              "3                       0.0                 0.0                0.0   \n",
              "4                       1.0                 0.0                1.0   \n",
              "\n",
              "   INCOME_GROUP_Low  INCOME_GROUP_Medium  INCOME_GROUP_unknown  \\\n",
              "0               1.0                  0.0                   0.0   \n",
              "1               1.0                  0.0                   0.0   \n",
              "2               0.0                  0.0                   0.0   \n",
              "3               1.0                  0.0                   0.0   \n",
              "4               0.0                  0.0                   0.0   \n",
              "\n",
              "   LOYALTY_PROGRAM_No  LOYALTY_PROGRAM_Yes  LOYALTY_PROGRAM_unknown  \n",
              "0                 1.0                  0.0                      0.0  \n",
              "1                 1.0                  0.0                      0.0  \n",
              "2                 0.0                  0.0                      1.0  \n",
              "3                 1.0                  0.0                      0.0  \n",
              "4                 1.0                  0.0                      0.0  "
            ]
          },
          "metadata": {
            "tags": []
          },
          "execution_count": 38
        }
      ]
    },
    {
      "cell_type": "code",
      "metadata": {
        "scrolled": true,
        "id": "nWx2ac-JiVDh",
        "outputId": "4f0dfd35-9a4a-4815-9a05-5924a71d7dbd",
        "colab": {
          "base_uri": "https://localhost:8080/",
          "height": 258
        }
      },
      "source": [
        "print(train_df.shape)\n",
        "train_df.drop(['ID', 'STATE', 'OCCUPATION', 'INCOME_GROUP', 'LOYALTY_PROGRAM'], axis = 1, inplace = True)\n",
        "train_df.head()"
      ],
      "execution_count": 39,
      "outputs": [
        {
          "output_type": "stream",
          "text": [
            "(150000, 27)\n"
          ],
          "name": "stdout"
        },
        {
          "output_type": "execute_result",
          "data": {
            "text/html": [
              "<div>\n",
              "<style scoped>\n",
              "    .dataframe tbody tr th:only-of-type {\n",
              "        vertical-align: middle;\n",
              "    }\n",
              "\n",
              "    .dataframe tbody tr th {\n",
              "        vertical-align: top;\n",
              "    }\n",
              "\n",
              "    .dataframe thead th {\n",
              "        text-align: right;\n",
              "    }\n",
              "</style>\n",
              "<table border=\"1\" class=\"dataframe\">\n",
              "  <thead>\n",
              "    <tr style=\"text-align: right;\">\n",
              "      <th></th>\n",
              "      <th>AGE</th>\n",
              "      <th>CUSTOMER_SINCE</th>\n",
              "      <th>PAST_PURCHASE</th>\n",
              "      <th>PURCHASE</th>\n",
              "      <th>STATE_Gujarat</th>\n",
              "      <th>STATE_Karnataka</th>\n",
              "      <th>STATE_Maharashtra</th>\n",
              "      <th>STATE_Tamil Nadu</th>\n",
              "      <th>STATE_Uttar Pradesh</th>\n",
              "      <th>STATE_West Bengal</th>\n",
              "      <th>STATE_merged</th>\n",
              "      <th>OCCUPATION_Business</th>\n",
              "      <th>OCCUPATION_Salaried</th>\n",
              "      <th>OCCUPATION_Self employed</th>\n",
              "      <th>OCCUPATION_unknown</th>\n",
              "      <th>INCOME_GROUP_High</th>\n",
              "      <th>INCOME_GROUP_Low</th>\n",
              "      <th>INCOME_GROUP_Medium</th>\n",
              "      <th>INCOME_GROUP_unknown</th>\n",
              "      <th>LOYALTY_PROGRAM_No</th>\n",
              "      <th>LOYALTY_PROGRAM_Yes</th>\n",
              "      <th>LOYALTY_PROGRAM_unknown</th>\n",
              "    </tr>\n",
              "  </thead>\n",
              "  <tbody>\n",
              "    <tr>\n",
              "      <th>0</th>\n",
              "      <td>28</td>\n",
              "      <td>2018</td>\n",
              "      <td>4937</td>\n",
              "      <td>0</td>\n",
              "      <td>0.0</td>\n",
              "      <td>0.0</td>\n",
              "      <td>0.0</td>\n",
              "      <td>0.0</td>\n",
              "      <td>1.0</td>\n",
              "      <td>0.0</td>\n",
              "      <td>0.0</td>\n",
              "      <td>0.0</td>\n",
              "      <td>0.0</td>\n",
              "      <td>0.0</td>\n",
              "      <td>1.0</td>\n",
              "      <td>0.0</td>\n",
              "      <td>1.0</td>\n",
              "      <td>0.0</td>\n",
              "      <td>0.0</td>\n",
              "      <td>1.0</td>\n",
              "      <td>0.0</td>\n",
              "      <td>0.0</td>\n",
              "    </tr>\n",
              "    <tr>\n",
              "      <th>1</th>\n",
              "      <td>27</td>\n",
              "      <td>2018</td>\n",
              "      <td>10834</td>\n",
              "      <td>0</td>\n",
              "      <td>0.0</td>\n",
              "      <td>0.0</td>\n",
              "      <td>0.0</td>\n",
              "      <td>0.0</td>\n",
              "      <td>0.0</td>\n",
              "      <td>0.0</td>\n",
              "      <td>1.0</td>\n",
              "      <td>0.0</td>\n",
              "      <td>1.0</td>\n",
              "      <td>0.0</td>\n",
              "      <td>0.0</td>\n",
              "      <td>0.0</td>\n",
              "      <td>1.0</td>\n",
              "      <td>0.0</td>\n",
              "      <td>0.0</td>\n",
              "      <td>1.0</td>\n",
              "      <td>0.0</td>\n",
              "      <td>0.0</td>\n",
              "    </tr>\n",
              "    <tr>\n",
              "      <th>2</th>\n",
              "      <td>62</td>\n",
              "      <td>2013</td>\n",
              "      <td>8610</td>\n",
              "      <td>1</td>\n",
              "      <td>0.0</td>\n",
              "      <td>0.0</td>\n",
              "      <td>0.0</td>\n",
              "      <td>0.0</td>\n",
              "      <td>0.0</td>\n",
              "      <td>1.0</td>\n",
              "      <td>0.0</td>\n",
              "      <td>0.0</td>\n",
              "      <td>0.0</td>\n",
              "      <td>0.0</td>\n",
              "      <td>1.0</td>\n",
              "      <td>1.0</td>\n",
              "      <td>0.0</td>\n",
              "      <td>0.0</td>\n",
              "      <td>0.0</td>\n",
              "      <td>0.0</td>\n",
              "      <td>0.0</td>\n",
              "      <td>1.0</td>\n",
              "    </tr>\n",
              "    <tr>\n",
              "      <th>3</th>\n",
              "      <td>27</td>\n",
              "      <td>2018</td>\n",
              "      <td>14374</td>\n",
              "      <td>1</td>\n",
              "      <td>0.0</td>\n",
              "      <td>0.0</td>\n",
              "      <td>0.0</td>\n",
              "      <td>1.0</td>\n",
              "      <td>0.0</td>\n",
              "      <td>0.0</td>\n",
              "      <td>0.0</td>\n",
              "      <td>0.0</td>\n",
              "      <td>1.0</td>\n",
              "      <td>0.0</td>\n",
              "      <td>0.0</td>\n",
              "      <td>0.0</td>\n",
              "      <td>1.0</td>\n",
              "      <td>0.0</td>\n",
              "      <td>0.0</td>\n",
              "      <td>1.0</td>\n",
              "      <td>0.0</td>\n",
              "      <td>0.0</td>\n",
              "    </tr>\n",
              "    <tr>\n",
              "      <th>4</th>\n",
              "      <td>40</td>\n",
              "      <td>2015</td>\n",
              "      <td>13158</td>\n",
              "      <td>0</td>\n",
              "      <td>0.0</td>\n",
              "      <td>0.0</td>\n",
              "      <td>0.0</td>\n",
              "      <td>0.0</td>\n",
              "      <td>1.0</td>\n",
              "      <td>0.0</td>\n",
              "      <td>0.0</td>\n",
              "      <td>0.0</td>\n",
              "      <td>0.0</td>\n",
              "      <td>1.0</td>\n",
              "      <td>0.0</td>\n",
              "      <td>1.0</td>\n",
              "      <td>0.0</td>\n",
              "      <td>0.0</td>\n",
              "      <td>0.0</td>\n",
              "      <td>1.0</td>\n",
              "      <td>0.0</td>\n",
              "      <td>0.0</td>\n",
              "    </tr>\n",
              "  </tbody>\n",
              "</table>\n",
              "</div>"
            ],
            "text/plain": [
              "   AGE  CUSTOMER_SINCE  PAST_PURCHASE  PURCHASE  STATE_Gujarat  \\\n",
              "0   28            2018           4937         0            0.0   \n",
              "1   27            2018          10834         0            0.0   \n",
              "2   62            2013           8610         1            0.0   \n",
              "3   27            2018          14374         1            0.0   \n",
              "4   40            2015          13158         0            0.0   \n",
              "\n",
              "   STATE_Karnataka  STATE_Maharashtra  STATE_Tamil Nadu  STATE_Uttar Pradesh  \\\n",
              "0              0.0                0.0               0.0                  1.0   \n",
              "1              0.0                0.0               0.0                  0.0   \n",
              "2              0.0                0.0               0.0                  0.0   \n",
              "3              0.0                0.0               1.0                  0.0   \n",
              "4              0.0                0.0               0.0                  1.0   \n",
              "\n",
              "   STATE_West Bengal  STATE_merged  OCCUPATION_Business  OCCUPATION_Salaried  \\\n",
              "0                0.0           0.0                  0.0                  0.0   \n",
              "1                0.0           1.0                  0.0                  1.0   \n",
              "2                1.0           0.0                  0.0                  0.0   \n",
              "3                0.0           0.0                  0.0                  1.0   \n",
              "4                0.0           0.0                  0.0                  0.0   \n",
              "\n",
              "   OCCUPATION_Self employed  OCCUPATION_unknown  INCOME_GROUP_High  \\\n",
              "0                       0.0                 1.0                0.0   \n",
              "1                       0.0                 0.0                0.0   \n",
              "2                       0.0                 1.0                1.0   \n",
              "3                       0.0                 0.0                0.0   \n",
              "4                       1.0                 0.0                1.0   \n",
              "\n",
              "   INCOME_GROUP_Low  INCOME_GROUP_Medium  INCOME_GROUP_unknown  \\\n",
              "0               1.0                  0.0                   0.0   \n",
              "1               1.0                  0.0                   0.0   \n",
              "2               0.0                  0.0                   0.0   \n",
              "3               1.0                  0.0                   0.0   \n",
              "4               0.0                  0.0                   0.0   \n",
              "\n",
              "   LOYALTY_PROGRAM_No  LOYALTY_PROGRAM_Yes  LOYALTY_PROGRAM_unknown  \n",
              "0                 1.0                  0.0                      0.0  \n",
              "1                 1.0                  0.0                      0.0  \n",
              "2                 0.0                  0.0                      1.0  \n",
              "3                 1.0                  0.0                      0.0  \n",
              "4                 1.0                  0.0                      0.0  "
            ]
          },
          "metadata": {
            "tags": []
          },
          "execution_count": 39
        }
      ]
    },
    {
      "cell_type": "code",
      "metadata": {
        "id": "a5Bp76YliVDh"
      },
      "source": [
        "cols = [col for col in train_df if col != 'PURCHASE'] + ['PURCHASE']\n",
        "train_df = train_df[cols]"
      ],
      "execution_count": 40,
      "outputs": []
    },
    {
      "cell_type": "code",
      "metadata": {
        "id": "lVky__EviVDi"
      },
      "source": [
        "from sklearn.preprocessing import StandardScaler\n",
        "scaler = StandardScaler()\n",
        "\n",
        "train_df['AGE'] = scaler.fit_transform(np.array(train_df['AGE']).reshape(-1, 1))\n",
        "train_df['CUSTOMER_SINCE'] = scaler.fit_transform(np.array(train_df['CUSTOMER_SINCE']).reshape(-1, 1))\n",
        "train_df['PAST_PURCHASE'] = scaler.fit_transform(np.array(train_df['PAST_PURCHASE']).reshape(-1, 1))"
      ],
      "execution_count": 41,
      "outputs": []
    },
    {
      "cell_type": "code",
      "metadata": {
        "id": "xnQZcO1RiVDi",
        "outputId": "43c356a9-75ef-48aa-fe65-f2c5986efb36",
        "colab": {
          "base_uri": "https://localhost:8080/",
          "height": 241
        }
      },
      "source": [
        "train_df.head()"
      ],
      "execution_count": 42,
      "outputs": [
        {
          "output_type": "execute_result",
          "data": {
            "text/html": [
              "<div>\n",
              "<style scoped>\n",
              "    .dataframe tbody tr th:only-of-type {\n",
              "        vertical-align: middle;\n",
              "    }\n",
              "\n",
              "    .dataframe tbody tr th {\n",
              "        vertical-align: top;\n",
              "    }\n",
              "\n",
              "    .dataframe thead th {\n",
              "        text-align: right;\n",
              "    }\n",
              "</style>\n",
              "<table border=\"1\" class=\"dataframe\">\n",
              "  <thead>\n",
              "    <tr style=\"text-align: right;\">\n",
              "      <th></th>\n",
              "      <th>AGE</th>\n",
              "      <th>CUSTOMER_SINCE</th>\n",
              "      <th>PAST_PURCHASE</th>\n",
              "      <th>STATE_Gujarat</th>\n",
              "      <th>STATE_Karnataka</th>\n",
              "      <th>STATE_Maharashtra</th>\n",
              "      <th>STATE_Tamil Nadu</th>\n",
              "      <th>STATE_Uttar Pradesh</th>\n",
              "      <th>STATE_West Bengal</th>\n",
              "      <th>STATE_merged</th>\n",
              "      <th>OCCUPATION_Business</th>\n",
              "      <th>OCCUPATION_Salaried</th>\n",
              "      <th>OCCUPATION_Self employed</th>\n",
              "      <th>OCCUPATION_unknown</th>\n",
              "      <th>INCOME_GROUP_High</th>\n",
              "      <th>INCOME_GROUP_Low</th>\n",
              "      <th>INCOME_GROUP_Medium</th>\n",
              "      <th>INCOME_GROUP_unknown</th>\n",
              "      <th>LOYALTY_PROGRAM_No</th>\n",
              "      <th>LOYALTY_PROGRAM_Yes</th>\n",
              "      <th>LOYALTY_PROGRAM_unknown</th>\n",
              "      <th>PURCHASE</th>\n",
              "    </tr>\n",
              "  </thead>\n",
              "  <tbody>\n",
              "    <tr>\n",
              "      <th>0</th>\n",
              "      <td>-1.065921</td>\n",
              "      <td>0.927914</td>\n",
              "      <td>-0.745697</td>\n",
              "      <td>0.0</td>\n",
              "      <td>0.0</td>\n",
              "      <td>0.0</td>\n",
              "      <td>0.0</td>\n",
              "      <td>1.0</td>\n",
              "      <td>0.0</td>\n",
              "      <td>0.0</td>\n",
              "      <td>0.0</td>\n",
              "      <td>0.0</td>\n",
              "      <td>0.0</td>\n",
              "      <td>1.0</td>\n",
              "      <td>0.0</td>\n",
              "      <td>1.0</td>\n",
              "      <td>0.0</td>\n",
              "      <td>0.0</td>\n",
              "      <td>1.0</td>\n",
              "      <td>0.0</td>\n",
              "      <td>0.0</td>\n",
              "      <td>0</td>\n",
              "    </tr>\n",
              "    <tr>\n",
              "      <th>1</th>\n",
              "      <td>-1.133360</td>\n",
              "      <td>0.927914</td>\n",
              "      <td>-0.048499</td>\n",
              "      <td>0.0</td>\n",
              "      <td>0.0</td>\n",
              "      <td>0.0</td>\n",
              "      <td>0.0</td>\n",
              "      <td>0.0</td>\n",
              "      <td>0.0</td>\n",
              "      <td>1.0</td>\n",
              "      <td>0.0</td>\n",
              "      <td>1.0</td>\n",
              "      <td>0.0</td>\n",
              "      <td>0.0</td>\n",
              "      <td>0.0</td>\n",
              "      <td>1.0</td>\n",
              "      <td>0.0</td>\n",
              "      <td>0.0</td>\n",
              "      <td>1.0</td>\n",
              "      <td>0.0</td>\n",
              "      <td>0.0</td>\n",
              "      <td>0</td>\n",
              "    </tr>\n",
              "    <tr>\n",
              "      <th>2</th>\n",
              "      <td>1.227012</td>\n",
              "      <td>-0.933842</td>\n",
              "      <td>-0.311441</td>\n",
              "      <td>0.0</td>\n",
              "      <td>0.0</td>\n",
              "      <td>0.0</td>\n",
              "      <td>0.0</td>\n",
              "      <td>0.0</td>\n",
              "      <td>1.0</td>\n",
              "      <td>0.0</td>\n",
              "      <td>0.0</td>\n",
              "      <td>0.0</td>\n",
              "      <td>0.0</td>\n",
              "      <td>1.0</td>\n",
              "      <td>1.0</td>\n",
              "      <td>0.0</td>\n",
              "      <td>0.0</td>\n",
              "      <td>0.0</td>\n",
              "      <td>0.0</td>\n",
              "      <td>0.0</td>\n",
              "      <td>1.0</td>\n",
              "      <td>1</td>\n",
              "    </tr>\n",
              "    <tr>\n",
              "      <th>3</th>\n",
              "      <td>-1.133360</td>\n",
              "      <td>0.927914</td>\n",
              "      <td>0.370033</td>\n",
              "      <td>0.0</td>\n",
              "      <td>0.0</td>\n",
              "      <td>0.0</td>\n",
              "      <td>1.0</td>\n",
              "      <td>0.0</td>\n",
              "      <td>0.0</td>\n",
              "      <td>0.0</td>\n",
              "      <td>0.0</td>\n",
              "      <td>1.0</td>\n",
              "      <td>0.0</td>\n",
              "      <td>0.0</td>\n",
              "      <td>0.0</td>\n",
              "      <td>1.0</td>\n",
              "      <td>0.0</td>\n",
              "      <td>0.0</td>\n",
              "      <td>1.0</td>\n",
              "      <td>0.0</td>\n",
              "      <td>0.0</td>\n",
              "      <td>1</td>\n",
              "    </tr>\n",
              "    <tr>\n",
              "      <th>4</th>\n",
              "      <td>-0.256651</td>\n",
              "      <td>-0.189140</td>\n",
              "      <td>0.226266</td>\n",
              "      <td>0.0</td>\n",
              "      <td>0.0</td>\n",
              "      <td>0.0</td>\n",
              "      <td>0.0</td>\n",
              "      <td>1.0</td>\n",
              "      <td>0.0</td>\n",
              "      <td>0.0</td>\n",
              "      <td>0.0</td>\n",
              "      <td>0.0</td>\n",
              "      <td>1.0</td>\n",
              "      <td>0.0</td>\n",
              "      <td>1.0</td>\n",
              "      <td>0.0</td>\n",
              "      <td>0.0</td>\n",
              "      <td>0.0</td>\n",
              "      <td>1.0</td>\n",
              "      <td>0.0</td>\n",
              "      <td>0.0</td>\n",
              "      <td>0</td>\n",
              "    </tr>\n",
              "  </tbody>\n",
              "</table>\n",
              "</div>"
            ],
            "text/plain": [
              "        AGE  CUSTOMER_SINCE  PAST_PURCHASE  STATE_Gujarat  STATE_Karnataka  \\\n",
              "0 -1.065921        0.927914      -0.745697            0.0              0.0   \n",
              "1 -1.133360        0.927914      -0.048499            0.0              0.0   \n",
              "2  1.227012       -0.933842      -0.311441            0.0              0.0   \n",
              "3 -1.133360        0.927914       0.370033            0.0              0.0   \n",
              "4 -0.256651       -0.189140       0.226266            0.0              0.0   \n",
              "\n",
              "   STATE_Maharashtra  STATE_Tamil Nadu  STATE_Uttar Pradesh  \\\n",
              "0                0.0               0.0                  1.0   \n",
              "1                0.0               0.0                  0.0   \n",
              "2                0.0               0.0                  0.0   \n",
              "3                0.0               1.0                  0.0   \n",
              "4                0.0               0.0                  1.0   \n",
              "\n",
              "   STATE_West Bengal  STATE_merged  OCCUPATION_Business  OCCUPATION_Salaried  \\\n",
              "0                0.0           0.0                  0.0                  0.0   \n",
              "1                0.0           1.0                  0.0                  1.0   \n",
              "2                1.0           0.0                  0.0                  0.0   \n",
              "3                0.0           0.0                  0.0                  1.0   \n",
              "4                0.0           0.0                  0.0                  0.0   \n",
              "\n",
              "   OCCUPATION_Self employed  OCCUPATION_unknown  INCOME_GROUP_High  \\\n",
              "0                       0.0                 1.0                0.0   \n",
              "1                       0.0                 0.0                0.0   \n",
              "2                       0.0                 1.0                1.0   \n",
              "3                       0.0                 0.0                0.0   \n",
              "4                       1.0                 0.0                1.0   \n",
              "\n",
              "   INCOME_GROUP_Low  INCOME_GROUP_Medium  INCOME_GROUP_unknown  \\\n",
              "0               1.0                  0.0                   0.0   \n",
              "1               1.0                  0.0                   0.0   \n",
              "2               0.0                  0.0                   0.0   \n",
              "3               1.0                  0.0                   0.0   \n",
              "4               0.0                  0.0                   0.0   \n",
              "\n",
              "   LOYALTY_PROGRAM_No  LOYALTY_PROGRAM_Yes  LOYALTY_PROGRAM_unknown  PURCHASE  \n",
              "0                 1.0                  0.0                      0.0         0  \n",
              "1                 1.0                  0.0                      0.0         0  \n",
              "2                 0.0                  0.0                      1.0         1  \n",
              "3                 1.0                  0.0                      0.0         1  \n",
              "4                 1.0                  0.0                      0.0         0  "
            ]
          },
          "metadata": {
            "tags": []
          },
          "execution_count": 42
        }
      ]
    },
    {
      "cell_type": "code",
      "metadata": {
        "id": "CM0CnZ_eiVDi"
      },
      "source": [
        "train_df_x = train_df.drop(\"PURCHASE\", axis=1)\n",
        "train_df_y = train_df['PURCHASE']"
      ],
      "execution_count": 43,
      "outputs": []
    },
    {
      "cell_type": "markdown",
      "metadata": {
        "id": "MBixsAxziVDj"
      },
      "source": [
        "## Principle Component Analysis(PCA)"
      ]
    },
    {
      "cell_type": "code",
      "metadata": {
        "id": "9kq7n-eFiVDj"
      },
      "source": [
        "from sklearn.decomposition import PCA"
      ],
      "execution_count": 44,
      "outputs": []
    },
    {
      "cell_type": "code",
      "metadata": {
        "id": "tnYX494TiVDj"
      },
      "source": [
        "pca = PCA(n_components=8)"
      ],
      "execution_count": 45,
      "outputs": []
    },
    {
      "cell_type": "code",
      "metadata": {
        "id": "fBZRhTY-iVDj",
        "outputId": "7fe542b2-76f3-453f-cfc5-c06b5405f55f",
        "colab": {
          "base_uri": "https://localhost:8080/"
        }
      },
      "source": [
        "pca.fit(train_df_x)"
      ],
      "execution_count": 46,
      "outputs": [
        {
          "output_type": "execute_result",
          "data": {
            "text/plain": [
              "PCA(copy=True, iterated_power='auto', n_components=8, random_state=None,\n",
              "    svd_solver='auto', tol=0.0, whiten=False)"
            ]
          },
          "metadata": {
            "tags": []
          },
          "execution_count": 46
        }
      ]
    },
    {
      "cell_type": "code",
      "metadata": {
        "id": "C1ZM_NI8iVDk"
      },
      "source": [
        "train_df_x_pca = pca.transform(train_df_x)"
      ],
      "execution_count": 47,
      "outputs": []
    },
    {
      "cell_type": "code",
      "metadata": {
        "id": "a96iiaEMiVDk",
        "outputId": "1cad9e98-7015-416e-cfa6-7c22bc628814",
        "colab": {
          "base_uri": "https://localhost:8080/"
        }
      },
      "source": [
        "train_df_x.shape"
      ],
      "execution_count": 48,
      "outputs": [
        {
          "output_type": "execute_result",
          "data": {
            "text/plain": [
              "(150000, 21)"
            ]
          },
          "metadata": {
            "tags": []
          },
          "execution_count": 48
        }
      ]
    },
    {
      "cell_type": "code",
      "metadata": {
        "id": "JA4LMqyHiVDk",
        "outputId": "5bc8ac2b-30fc-4f5a-af4d-d4713957bec1",
        "colab": {
          "base_uri": "https://localhost:8080/"
        }
      },
      "source": [
        "train_df_x_pca.shape"
      ],
      "execution_count": 49,
      "outputs": [
        {
          "output_type": "execute_result",
          "data": {
            "text/plain": [
              "(150000, 8)"
            ]
          },
          "metadata": {
            "tags": []
          },
          "execution_count": 49
        }
      ]
    },
    {
      "cell_type": "markdown",
      "metadata": {
        "id": "9jOebOy_iVDl"
      },
      "source": [
        "### Testing Dataset : test_df"
      ]
    },
    {
      "cell_type": "code",
      "metadata": {
        "id": "cCaoovOpiVDl",
        "outputId": "d71c8472-32a0-46a5-c5ef-959074b67817",
        "colab": {
          "base_uri": "https://localhost:8080/"
        }
      },
      "source": [
        "print('          Columns having white space/ null - missing values          \\n','='*70)\n",
        "for col in list(test_df.columns):\n",
        "    if ' ' in test_df[col].value_counts():\n",
        "        miss_val = test_df[col].value_counts()[' ']\n",
        "        print(col,'\\n{} white space/ missing values'.format(miss_val))\n",
        "        print(round((miss_val/len(train_df))*100,2),' %\\n')\n",
        "miss_val = test_df['LOYALTY_PROGRAM'].isnull().sum()\n",
        "print('LOYALTY_PROGRAM\\n','{} null/ missing values'.format(miss_val))\n",
        "print(round((miss_val/len(train_df))*100,2),' %')"
      ],
      "execution_count": 50,
      "outputs": [
        {
          "output_type": "stream",
          "text": [
            "          Columns having white space/ null - missing values          \n",
            " ======================================================================\n",
            "STATE \n",
            "576 white space/ missing values\n",
            "0.38  %\n",
            "\n",
            "OCCUPATION \n",
            "14380 white space/ missing values\n",
            "9.59  %\n",
            "\n",
            "INCOME_GROUP \n",
            "1118 white space/ missing values\n",
            "0.75  %\n",
            "\n",
            "LOYALTY_PROGRAM\n",
            " 6004 null/ missing values\n",
            "4.0  %\n"
          ],
          "name": "stdout"
        }
      ]
    },
    {
      "cell_type": "raw",
      "metadata": {
        "id": "5Ty8dcC9iVDl"
      },
      "source": [
        "################# train_df ############################################ (COMPARISION)\n",
        "\n",
        "Columns having white space/ null - missing values          \n",
        " ======================================================================\n",
        "STATE \n",
        "1842 white space/ missing values\n",
        "1.23  %\n",
        "\n",
        "OCCUPATION \n",
        "42777 white space/ missing values\n",
        "28.52  %\n",
        "\n",
        "INCOME_GROUP \n",
        "3437 white space/ missing values\n",
        "2.29  %\n",
        "\n",
        "LOYALTY_PROGRAM\n",
        " 17824 null/ missing values\n",
        "11.88  %"
      ]
    },
    {
      "cell_type": "code",
      "metadata": {
        "id": "qpSqclJviVDm",
        "outputId": "bf4299cf-02ae-4185-a3f6-26afe477ff7f",
        "colab": {
          "base_uri": "https://localhost:8080/"
        }
      },
      "source": [
        "test_df.replace({\" \": \"unknown\", np.nan: \"unknown\"}, inplace = True)\n",
        "\n",
        "print('          Columns having white space/ null - missing values          \\n','='*70)\n",
        "for col in list(test_df.columns):\n",
        "    if ' ' in test_df[col].value_counts():\n",
        "        miss_val = test_df[col].value_counts()[' ']\n",
        "        print(col,'\\n{} white space/ missing values'.format(miss_val))\n",
        "        print(round((miss_val/len(test_df))*100,2),' %\\n')\n",
        "miss_val = test_df['LOYALTY_PROGRAM'].isnull().sum()\n",
        "print('LOYALTY_PROGRAM\\n','{} null/ missing values'.format(miss_val))\n",
        "print(round((miss_val/len(test_df))*100,2),' %')"
      ],
      "execution_count": 51,
      "outputs": [
        {
          "output_type": "stream",
          "text": [
            "          Columns having white space/ null - missing values          \n",
            " ======================================================================\n",
            "LOYALTY_PROGRAM\n",
            " 0 null/ missing values\n",
            "0.0  %\n"
          ],
          "name": "stdout"
        }
      ]
    },
    {
      "cell_type": "code",
      "metadata": {
        "id": "-Sxv1kmiiVDm",
        "outputId": "1a53c995-027e-4e50-d7c8-4a1730d01152",
        "colab": {
          "base_uri": "https://localhost:8080/",
          "height": 241
        }
      },
      "source": [
        "# merging labels if they are less than threshold (< 0.05)\n",
        "counts = test_df['STATE'].value_counts(normalize=True)\n",
        "labels_less_then_threshold = counts[counts < 0.05].index.to_list()\n",
        "where_to_replace = test_df['STATE'].isin(labels_less_then_threshold).copy()\n",
        "test_df.loc[where_to_replace, 'STATE'] = 'merged'\n",
        "\n",
        "# As STATE is Nominal Categorical data we will perform OneHotEncoding\n",
        "STATE = pd.DataFrame(One_Hot_Encoder.fit_transform(test_df[[\"STATE\"]]).toarray())\n",
        "STATE.columns = One_Hot_Encoder.get_feature_names(['STATE'])\n",
        "\n",
        "# As OCCUPATION is Nominal Categorical data we will perform OneHotEncoding\n",
        "OCCUPATION = pd.DataFrame(One_Hot_Encoder.fit_transform(test_df[[\"OCCUPATION\"]]).toarray())\n",
        "OCCUPATION.columns = One_Hot_Encoder.get_feature_names(['OCCUPATION'])\n",
        "\n",
        "# As INCOME_GROUP is Nominal Categorical data we will perform OneHotEncoding\n",
        "INCOME_GROUP = pd.DataFrame(One_Hot_Encoder.fit_transform(test_df[[\"INCOME_GROUP\"]]).toarray())\n",
        "INCOME_GROUP.columns = One_Hot_Encoder.get_feature_names(['INCOME_GROUP'])\n",
        "\n",
        "# As LOYALTY_PROGRAM is Nominal Categorical data we will perform OneHotEncoding\n",
        "LOYALTY_PROGRAM = pd.DataFrame(One_Hot_Encoder.fit_transform(test_df[[\"LOYALTY_PROGRAM\"]]).toarray())\n",
        "LOYALTY_PROGRAM.columns = One_Hot_Encoder.get_feature_names(['LOYALTY_PROGRAM'])\n",
        "\n",
        "# Concatenate dataframe --> test_df + STATE + OCCUPATION + INCOME_GROUP + LOYALTY_PROGRAM\n",
        "test_df = pd.concat([test_df, STATE, OCCUPATION, INCOME_GROUP, LOYALTY_PROGRAM], axis = 1)\n",
        "\n",
        "test_df.drop(['ID', 'STATE', 'OCCUPATION', 'INCOME_GROUP', 'LOYALTY_PROGRAM'], axis = 1, inplace = True)\n",
        "\n",
        "test_df['AGE'] = scaler.fit_transform(np.array(test_df['AGE']).reshape(-1, 1))\n",
        "test_df['CUSTOMER_SINCE'] = scaler.fit_transform(np.array(test_df['CUSTOMER_SINCE']).reshape(-1, 1))\n",
        "test_df['PAST_PURCHASE'] = scaler.fit_transform(np.array(test_df['PAST_PURCHASE']).reshape(-1, 1))\n",
        "\n",
        "test_df.head()"
      ],
      "execution_count": 52,
      "outputs": [
        {
          "output_type": "execute_result",
          "data": {
            "text/html": [
              "<div>\n",
              "<style scoped>\n",
              "    .dataframe tbody tr th:only-of-type {\n",
              "        vertical-align: middle;\n",
              "    }\n",
              "\n",
              "    .dataframe tbody tr th {\n",
              "        vertical-align: top;\n",
              "    }\n",
              "\n",
              "    .dataframe thead th {\n",
              "        text-align: right;\n",
              "    }\n",
              "</style>\n",
              "<table border=\"1\" class=\"dataframe\">\n",
              "  <thead>\n",
              "    <tr style=\"text-align: right;\">\n",
              "      <th></th>\n",
              "      <th>AGE</th>\n",
              "      <th>CUSTOMER_SINCE</th>\n",
              "      <th>PAST_PURCHASE</th>\n",
              "      <th>STATE_Gujarat</th>\n",
              "      <th>STATE_Karnataka</th>\n",
              "      <th>STATE_Maharashtra</th>\n",
              "      <th>STATE_Tamil Nadu</th>\n",
              "      <th>STATE_Uttar Pradesh</th>\n",
              "      <th>STATE_West Bengal</th>\n",
              "      <th>STATE_merged</th>\n",
              "      <th>OCCUPATION_Business</th>\n",
              "      <th>OCCUPATION_Salaried</th>\n",
              "      <th>OCCUPATION_Self employed</th>\n",
              "      <th>OCCUPATION_unknown</th>\n",
              "      <th>INCOME_GROUP_High</th>\n",
              "      <th>INCOME_GROUP_Low</th>\n",
              "      <th>INCOME_GROUP_Medium</th>\n",
              "      <th>INCOME_GROUP_unknown</th>\n",
              "      <th>LOYALTY_PROGRAM_No</th>\n",
              "      <th>LOYALTY_PROGRAM_Yes</th>\n",
              "      <th>LOYALTY_PROGRAM_unknown</th>\n",
              "    </tr>\n",
              "  </thead>\n",
              "  <tbody>\n",
              "    <tr>\n",
              "      <th>0</th>\n",
              "      <td>0.406710</td>\n",
              "      <td>0.937300</td>\n",
              "      <td>0.159191</td>\n",
              "      <td>0.0</td>\n",
              "      <td>0.0</td>\n",
              "      <td>1.0</td>\n",
              "      <td>0.0</td>\n",
              "      <td>0.0</td>\n",
              "      <td>0.0</td>\n",
              "      <td>0.0</td>\n",
              "      <td>0.0</td>\n",
              "      <td>0.0</td>\n",
              "      <td>1.0</td>\n",
              "      <td>0.0</td>\n",
              "      <td>0.0</td>\n",
              "      <td>0.0</td>\n",
              "      <td>1.0</td>\n",
              "      <td>0.0</td>\n",
              "      <td>1.0</td>\n",
              "      <td>0.0</td>\n",
              "      <td>0.0</td>\n",
              "    </tr>\n",
              "    <tr>\n",
              "      <th>1</th>\n",
              "      <td>0.945722</td>\n",
              "      <td>-1.658853</td>\n",
              "      <td>0.104780</td>\n",
              "      <td>0.0</td>\n",
              "      <td>0.0</td>\n",
              "      <td>1.0</td>\n",
              "      <td>0.0</td>\n",
              "      <td>0.0</td>\n",
              "      <td>0.0</td>\n",
              "      <td>0.0</td>\n",
              "      <td>0.0</td>\n",
              "      <td>0.0</td>\n",
              "      <td>1.0</td>\n",
              "      <td>0.0</td>\n",
              "      <td>1.0</td>\n",
              "      <td>0.0</td>\n",
              "      <td>0.0</td>\n",
              "      <td>0.0</td>\n",
              "      <td>0.0</td>\n",
              "      <td>1.0</td>\n",
              "      <td>0.0</td>\n",
              "    </tr>\n",
              "    <tr>\n",
              "      <th>2</th>\n",
              "      <td>-0.940820</td>\n",
              "      <td>0.566421</td>\n",
              "      <td>0.583225</td>\n",
              "      <td>0.0</td>\n",
              "      <td>0.0</td>\n",
              "      <td>0.0</td>\n",
              "      <td>0.0</td>\n",
              "      <td>0.0</td>\n",
              "      <td>0.0</td>\n",
              "      <td>1.0</td>\n",
              "      <td>0.0</td>\n",
              "      <td>1.0</td>\n",
              "      <td>0.0</td>\n",
              "      <td>0.0</td>\n",
              "      <td>0.0</td>\n",
              "      <td>1.0</td>\n",
              "      <td>0.0</td>\n",
              "      <td>0.0</td>\n",
              "      <td>0.0</td>\n",
              "      <td>1.0</td>\n",
              "      <td>0.0</td>\n",
              "    </tr>\n",
              "    <tr>\n",
              "      <th>3</th>\n",
              "      <td>-1.142949</td>\n",
              "      <td>0.937300</td>\n",
              "      <td>-0.198251</td>\n",
              "      <td>0.0</td>\n",
              "      <td>0.0</td>\n",
              "      <td>0.0</td>\n",
              "      <td>0.0</td>\n",
              "      <td>0.0</td>\n",
              "      <td>0.0</td>\n",
              "      <td>1.0</td>\n",
              "      <td>0.0</td>\n",
              "      <td>1.0</td>\n",
              "      <td>0.0</td>\n",
              "      <td>0.0</td>\n",
              "      <td>0.0</td>\n",
              "      <td>1.0</td>\n",
              "      <td>0.0</td>\n",
              "      <td>0.0</td>\n",
              "      <td>0.0</td>\n",
              "      <td>1.0</td>\n",
              "      <td>0.0</td>\n",
              "    </tr>\n",
              "    <tr>\n",
              "      <th>4</th>\n",
              "      <td>1.552110</td>\n",
              "      <td>-0.546216</td>\n",
              "      <td>0.504683</td>\n",
              "      <td>0.0</td>\n",
              "      <td>0.0</td>\n",
              "      <td>0.0</td>\n",
              "      <td>0.0</td>\n",
              "      <td>1.0</td>\n",
              "      <td>0.0</td>\n",
              "      <td>0.0</td>\n",
              "      <td>0.0</td>\n",
              "      <td>0.0</td>\n",
              "      <td>0.0</td>\n",
              "      <td>1.0</td>\n",
              "      <td>0.0</td>\n",
              "      <td>0.0</td>\n",
              "      <td>1.0</td>\n",
              "      <td>0.0</td>\n",
              "      <td>1.0</td>\n",
              "      <td>0.0</td>\n",
              "      <td>0.0</td>\n",
              "    </tr>\n",
              "  </tbody>\n",
              "</table>\n",
              "</div>"
            ],
            "text/plain": [
              "        AGE  CUSTOMER_SINCE  PAST_PURCHASE  STATE_Gujarat  STATE_Karnataka  \\\n",
              "0  0.406710        0.937300       0.159191            0.0              0.0   \n",
              "1  0.945722       -1.658853       0.104780            0.0              0.0   \n",
              "2 -0.940820        0.566421       0.583225            0.0              0.0   \n",
              "3 -1.142949        0.937300      -0.198251            0.0              0.0   \n",
              "4  1.552110       -0.546216       0.504683            0.0              0.0   \n",
              "\n",
              "   STATE_Maharashtra  STATE_Tamil Nadu  STATE_Uttar Pradesh  \\\n",
              "0                1.0               0.0                  0.0   \n",
              "1                1.0               0.0                  0.0   \n",
              "2                0.0               0.0                  0.0   \n",
              "3                0.0               0.0                  0.0   \n",
              "4                0.0               0.0                  1.0   \n",
              "\n",
              "   STATE_West Bengal  STATE_merged  OCCUPATION_Business  OCCUPATION_Salaried  \\\n",
              "0                0.0           0.0                  0.0                  0.0   \n",
              "1                0.0           0.0                  0.0                  0.0   \n",
              "2                0.0           1.0                  0.0                  1.0   \n",
              "3                0.0           1.0                  0.0                  1.0   \n",
              "4                0.0           0.0                  0.0                  0.0   \n",
              "\n",
              "   OCCUPATION_Self employed  OCCUPATION_unknown  INCOME_GROUP_High  \\\n",
              "0                       1.0                 0.0                0.0   \n",
              "1                       1.0                 0.0                1.0   \n",
              "2                       0.0                 0.0                0.0   \n",
              "3                       0.0                 0.0                0.0   \n",
              "4                       0.0                 1.0                0.0   \n",
              "\n",
              "   INCOME_GROUP_Low  INCOME_GROUP_Medium  INCOME_GROUP_unknown  \\\n",
              "0               0.0                  1.0                   0.0   \n",
              "1               0.0                  0.0                   0.0   \n",
              "2               1.0                  0.0                   0.0   \n",
              "3               1.0                  0.0                   0.0   \n",
              "4               0.0                  1.0                   0.0   \n",
              "\n",
              "   LOYALTY_PROGRAM_No  LOYALTY_PROGRAM_Yes  LOYALTY_PROGRAM_unknown  \n",
              "0                 1.0                  0.0                      0.0  \n",
              "1                 0.0                  1.0                      0.0  \n",
              "2                 0.0                  1.0                      0.0  \n",
              "3                 0.0                  1.0                      0.0  \n",
              "4                 1.0                  0.0                      0.0  "
            ]
          },
          "metadata": {
            "tags": []
          },
          "execution_count": 52
        }
      ]
    },
    {
      "cell_type": "code",
      "metadata": {
        "id": "YZS4lvDgiVDn",
        "outputId": "6f91d8e6-77c7-4b9f-d8a3-29e9e8c4fa1e",
        "colab": {
          "base_uri": "https://localhost:8080/"
        }
      },
      "source": [
        "print('train_df Shape: ', train_df.shape)  \n",
        "print('test_df Shape: ', test_df.shape)  "
      ],
      "execution_count": 53,
      "outputs": [
        {
          "output_type": "stream",
          "text": [
            "train_df Shape:  (150000, 22)\n",
            "test_df Shape:  (50000, 21)\n"
          ],
          "name": "stdout"
        }
      ]
    },
    {
      "cell_type": "code",
      "metadata": {
        "id": "Pj7fO0oPiVDn"
      },
      "source": [
        "# Columns which are in train_df but not in test_df excluding PURCHASE(target variable), due to OneHotEncoding.\n",
        "train_columns = train_df.columns.tolist()\n",
        "test_columns = test_df.columns.tolist()\n",
        "\n",
        "for col_name in train_columns:\n",
        "    if (col_name not in test_columns) and (col_name != 'PURCHASE'):\n",
        "        print(col_name)"
      ],
      "execution_count": 54,
      "outputs": []
    },
    {
      "cell_type": "markdown",
      "metadata": {
        "id": "WMJ6Fqs6iVDo"
      },
      "source": [
        "There are no Columns which are in train_df but not in test_df excluding PURCHASE(target variable), due to OneHotEncoding."
      ]
    },
    {
      "cell_type": "code",
      "metadata": {
        "id": "WnnwhBEciVDo"
      },
      "source": [
        "# Columns which are in test_df but not in train_df excluding PURCHASE(target variable), due to OneHotEncoding.\n",
        "train_columns = train_df.columns.tolist()\n",
        "test_columns = test_df.columns.tolist()\n",
        "\n",
        "for col_name in test_columns:\n",
        "    if (col_name not in train_columns) and (col_name != 'PURCHASE'):\n",
        "        print(col_name)"
      ],
      "execution_count": 55,
      "outputs": []
    },
    {
      "cell_type": "markdown",
      "metadata": {
        "id": "CY7BeLAiiVDo"
      },
      "source": [
        "There are no Columns which are in test_df but not in train_df excluding PURCHASE(target variable), due to OneHotEncoding."
      ]
    },
    {
      "cell_type": "code",
      "metadata": {
        "scrolled": true,
        "id": "ZAGapKCKiVDo",
        "outputId": "6c0dbe70-2a8a-4fe9-97d4-8e68e9f5fbdc",
        "colab": {
          "base_uri": "https://localhost:8080/",
          "height": 241
        }
      },
      "source": [
        "# arranging test_df columns in sequence of train_df columns.\n",
        "test_df = test_df[train_columns[:-1]]\n",
        "test_df.head()"
      ],
      "execution_count": 56,
      "outputs": [
        {
          "output_type": "execute_result",
          "data": {
            "text/html": [
              "<div>\n",
              "<style scoped>\n",
              "    .dataframe tbody tr th:only-of-type {\n",
              "        vertical-align: middle;\n",
              "    }\n",
              "\n",
              "    .dataframe tbody tr th {\n",
              "        vertical-align: top;\n",
              "    }\n",
              "\n",
              "    .dataframe thead th {\n",
              "        text-align: right;\n",
              "    }\n",
              "</style>\n",
              "<table border=\"1\" class=\"dataframe\">\n",
              "  <thead>\n",
              "    <tr style=\"text-align: right;\">\n",
              "      <th></th>\n",
              "      <th>AGE</th>\n",
              "      <th>CUSTOMER_SINCE</th>\n",
              "      <th>PAST_PURCHASE</th>\n",
              "      <th>STATE_Gujarat</th>\n",
              "      <th>STATE_Karnataka</th>\n",
              "      <th>STATE_Maharashtra</th>\n",
              "      <th>STATE_Tamil Nadu</th>\n",
              "      <th>STATE_Uttar Pradesh</th>\n",
              "      <th>STATE_West Bengal</th>\n",
              "      <th>STATE_merged</th>\n",
              "      <th>OCCUPATION_Business</th>\n",
              "      <th>OCCUPATION_Salaried</th>\n",
              "      <th>OCCUPATION_Self employed</th>\n",
              "      <th>OCCUPATION_unknown</th>\n",
              "      <th>INCOME_GROUP_High</th>\n",
              "      <th>INCOME_GROUP_Low</th>\n",
              "      <th>INCOME_GROUP_Medium</th>\n",
              "      <th>INCOME_GROUP_unknown</th>\n",
              "      <th>LOYALTY_PROGRAM_No</th>\n",
              "      <th>LOYALTY_PROGRAM_Yes</th>\n",
              "      <th>LOYALTY_PROGRAM_unknown</th>\n",
              "    </tr>\n",
              "  </thead>\n",
              "  <tbody>\n",
              "    <tr>\n",
              "      <th>0</th>\n",
              "      <td>0.406710</td>\n",
              "      <td>0.937300</td>\n",
              "      <td>0.159191</td>\n",
              "      <td>0.0</td>\n",
              "      <td>0.0</td>\n",
              "      <td>1.0</td>\n",
              "      <td>0.0</td>\n",
              "      <td>0.0</td>\n",
              "      <td>0.0</td>\n",
              "      <td>0.0</td>\n",
              "      <td>0.0</td>\n",
              "      <td>0.0</td>\n",
              "      <td>1.0</td>\n",
              "      <td>0.0</td>\n",
              "      <td>0.0</td>\n",
              "      <td>0.0</td>\n",
              "      <td>1.0</td>\n",
              "      <td>0.0</td>\n",
              "      <td>1.0</td>\n",
              "      <td>0.0</td>\n",
              "      <td>0.0</td>\n",
              "    </tr>\n",
              "    <tr>\n",
              "      <th>1</th>\n",
              "      <td>0.945722</td>\n",
              "      <td>-1.658853</td>\n",
              "      <td>0.104780</td>\n",
              "      <td>0.0</td>\n",
              "      <td>0.0</td>\n",
              "      <td>1.0</td>\n",
              "      <td>0.0</td>\n",
              "      <td>0.0</td>\n",
              "      <td>0.0</td>\n",
              "      <td>0.0</td>\n",
              "      <td>0.0</td>\n",
              "      <td>0.0</td>\n",
              "      <td>1.0</td>\n",
              "      <td>0.0</td>\n",
              "      <td>1.0</td>\n",
              "      <td>0.0</td>\n",
              "      <td>0.0</td>\n",
              "      <td>0.0</td>\n",
              "      <td>0.0</td>\n",
              "      <td>1.0</td>\n",
              "      <td>0.0</td>\n",
              "    </tr>\n",
              "    <tr>\n",
              "      <th>2</th>\n",
              "      <td>-0.940820</td>\n",
              "      <td>0.566421</td>\n",
              "      <td>0.583225</td>\n",
              "      <td>0.0</td>\n",
              "      <td>0.0</td>\n",
              "      <td>0.0</td>\n",
              "      <td>0.0</td>\n",
              "      <td>0.0</td>\n",
              "      <td>0.0</td>\n",
              "      <td>1.0</td>\n",
              "      <td>0.0</td>\n",
              "      <td>1.0</td>\n",
              "      <td>0.0</td>\n",
              "      <td>0.0</td>\n",
              "      <td>0.0</td>\n",
              "      <td>1.0</td>\n",
              "      <td>0.0</td>\n",
              "      <td>0.0</td>\n",
              "      <td>0.0</td>\n",
              "      <td>1.0</td>\n",
              "      <td>0.0</td>\n",
              "    </tr>\n",
              "    <tr>\n",
              "      <th>3</th>\n",
              "      <td>-1.142949</td>\n",
              "      <td>0.937300</td>\n",
              "      <td>-0.198251</td>\n",
              "      <td>0.0</td>\n",
              "      <td>0.0</td>\n",
              "      <td>0.0</td>\n",
              "      <td>0.0</td>\n",
              "      <td>0.0</td>\n",
              "      <td>0.0</td>\n",
              "      <td>1.0</td>\n",
              "      <td>0.0</td>\n",
              "      <td>1.0</td>\n",
              "      <td>0.0</td>\n",
              "      <td>0.0</td>\n",
              "      <td>0.0</td>\n",
              "      <td>1.0</td>\n",
              "      <td>0.0</td>\n",
              "      <td>0.0</td>\n",
              "      <td>0.0</td>\n",
              "      <td>1.0</td>\n",
              "      <td>0.0</td>\n",
              "    </tr>\n",
              "    <tr>\n",
              "      <th>4</th>\n",
              "      <td>1.552110</td>\n",
              "      <td>-0.546216</td>\n",
              "      <td>0.504683</td>\n",
              "      <td>0.0</td>\n",
              "      <td>0.0</td>\n",
              "      <td>0.0</td>\n",
              "      <td>0.0</td>\n",
              "      <td>1.0</td>\n",
              "      <td>0.0</td>\n",
              "      <td>0.0</td>\n",
              "      <td>0.0</td>\n",
              "      <td>0.0</td>\n",
              "      <td>0.0</td>\n",
              "      <td>1.0</td>\n",
              "      <td>0.0</td>\n",
              "      <td>0.0</td>\n",
              "      <td>1.0</td>\n",
              "      <td>0.0</td>\n",
              "      <td>1.0</td>\n",
              "      <td>0.0</td>\n",
              "      <td>0.0</td>\n",
              "    </tr>\n",
              "  </tbody>\n",
              "</table>\n",
              "</div>"
            ],
            "text/plain": [
              "        AGE  CUSTOMER_SINCE  PAST_PURCHASE  STATE_Gujarat  STATE_Karnataka  \\\n",
              "0  0.406710        0.937300       0.159191            0.0              0.0   \n",
              "1  0.945722       -1.658853       0.104780            0.0              0.0   \n",
              "2 -0.940820        0.566421       0.583225            0.0              0.0   \n",
              "3 -1.142949        0.937300      -0.198251            0.0              0.0   \n",
              "4  1.552110       -0.546216       0.504683            0.0              0.0   \n",
              "\n",
              "   STATE_Maharashtra  STATE_Tamil Nadu  STATE_Uttar Pradesh  \\\n",
              "0                1.0               0.0                  0.0   \n",
              "1                1.0               0.0                  0.0   \n",
              "2                0.0               0.0                  0.0   \n",
              "3                0.0               0.0                  0.0   \n",
              "4                0.0               0.0                  1.0   \n",
              "\n",
              "   STATE_West Bengal  STATE_merged  OCCUPATION_Business  OCCUPATION_Salaried  \\\n",
              "0                0.0           0.0                  0.0                  0.0   \n",
              "1                0.0           0.0                  0.0                  0.0   \n",
              "2                0.0           1.0                  0.0                  1.0   \n",
              "3                0.0           1.0                  0.0                  1.0   \n",
              "4                0.0           0.0                  0.0                  0.0   \n",
              "\n",
              "   OCCUPATION_Self employed  OCCUPATION_unknown  INCOME_GROUP_High  \\\n",
              "0                       1.0                 0.0                0.0   \n",
              "1                       1.0                 0.0                1.0   \n",
              "2                       0.0                 0.0                0.0   \n",
              "3                       0.0                 0.0                0.0   \n",
              "4                       0.0                 1.0                0.0   \n",
              "\n",
              "   INCOME_GROUP_Low  INCOME_GROUP_Medium  INCOME_GROUP_unknown  \\\n",
              "0               0.0                  1.0                   0.0   \n",
              "1               0.0                  0.0                   0.0   \n",
              "2               1.0                  0.0                   0.0   \n",
              "3               1.0                  0.0                   0.0   \n",
              "4               0.0                  1.0                   0.0   \n",
              "\n",
              "   LOYALTY_PROGRAM_No  LOYALTY_PROGRAM_Yes  LOYALTY_PROGRAM_unknown  \n",
              "0                 1.0                  0.0                      0.0  \n",
              "1                 0.0                  1.0                      0.0  \n",
              "2                 0.0                  1.0                      0.0  \n",
              "3                 0.0                  1.0                      0.0  \n",
              "4                 1.0                  0.0                      0.0  "
            ]
          },
          "metadata": {
            "tags": []
          },
          "execution_count": 56
        }
      ]
    },
    {
      "cell_type": "code",
      "metadata": {
        "id": "FruqLEi_iVDp",
        "outputId": "c85da61f-102c-445c-a4a2-35013f042bee",
        "colab": {
          "base_uri": "https://localhost:8080/"
        }
      },
      "source": [
        "#### PCA ####\n",
        "\n",
        "test_df_x = test_df.copy()\n",
        "\n",
        "pca = PCA(n_components=8)\n",
        "pca.fit(test_df_x)\n",
        "test_df_x_pca = pca.transform(test_df_x)\n",
        "print(test_df_x.shape)\n",
        "print(test_df_x_pca.shape)"
      ],
      "execution_count": 57,
      "outputs": [
        {
          "output_type": "stream",
          "text": [
            "(50000, 21)\n",
            "(50000, 8)\n"
          ],
          "name": "stdout"
        }
      ]
    },
    {
      "cell_type": "markdown",
      "metadata": {
        "id": "2lLOsSXDiVDp"
      },
      "source": [
        "## Feature Selection\n",
        "Finding out the best feature which will contribute and have good relation with target variable. Following are some of the feature selection methods:\n",
        "\n",
        "* heatmap\n",
        "\n",
        "* feature_importance_\n",
        "\n",
        "* SelectKBest"
      ]
    },
    {
      "cell_type": "code",
      "metadata": {
        "id": "unMIslGniVDq",
        "outputId": "264e5f36-1373-4ed0-a8a5-e7f0dbb8787e",
        "colab": {
          "base_uri": "https://localhost:8080/",
          "height": 350
        }
      },
      "source": [
        "# Finds correlation between Independent and dependent attributes\n",
        "\n",
        "#plt.figure(figsize = (6,6))\n",
        "sns.heatmap(train_df[['AGE', 'CUSTOMER_SINCE', 'PAST_PURCHASE', 'PURCHASE']].corr(), annot = True, cmap = \"RdYlGn\")\n",
        "\n",
        "plt.show()"
      ],
      "execution_count": 58,
      "outputs": [
        {
          "output_type": "display_data",
          "data": {
            "image/png": "[encoded data removed]",
            "text/plain": [
              "<Figure size 432x288 with 2 Axes>"
            ]
          },
          "metadata": {
            "tags": [],
            "needs_background": "light"
          }
        }
      ]
    },
    {
      "cell_type": "code",
      "metadata": {
        "id": "eOgD7vl-iVDq",
        "outputId": "5e08a097-c3cc-4201-bf6c-a1a541cf605b",
        "colab": {
          "base_uri": "https://localhost:8080/",
          "height": 551
        }
      },
      "source": [
        "from sklearn.ensemble import ExtraTreesRegressor\n",
        "selection = ExtraTreesRegressor()\n",
        "\n",
        "x = train_df_x\n",
        "y = train_df_y\n",
        "# Alternate # x_train = train_df.loc[:, [col for col in train_df.columns if col != 'PURCHASE']]\n",
        "selection.fit(x, y)\n",
        "\n",
        "print(selection.feature_importances_)\n",
        "\n",
        "# plot graph of feature importances for better visualization\n",
        "plt.figure(figsize = (12,8))\n",
        "feat_importances = pd.Series(selection.feature_importances_, index=x.columns)\n",
        "feat_importances.nlargest(20).plot(kind='barh')\n",
        "plt.show()"
      ],
      "execution_count": 59,
      "outputs": [
        {
          "output_type": "stream",
          "text": [
            "[0.146991   0.04232723 0.37944409 0.00325196 0.0049487  0.0061631\n",
            " 0.00578938 0.00500386 0.0034456  0.00645244 0.00176852 0.01462074\n",
            " 0.00276187 0.00291321 0.00503921 0.0173745  0.00538874 0.00090292\n",
            " 0.03572691 0.02695188 0.28273412]\n"
          ],
          "name": "stdout"
        },
        {
          "output_type": "display_data",
          "data": {
            "image/png": "[encoded data removed]",
            "text/plain": [
              "<Figure size 864x576 with 1 Axes>"
            ]
          },
          "metadata": {
            "tags": [],
            "needs_background": "light"
          }
        }
      ]
    },
    {
      "cell_type": "markdown",
      "metadata": {
        "id": "AXvO5iVbiVDq"
      },
      "source": [
        "## ML Model(s) selection based on F1 score:\n",
        " Training & Testing different Classificaton models to check the F1 score to see which one is appropriate."
      ]
    },
    {
      "cell_type": "code",
      "metadata": {
        "id": "l1vYMWttiVDr"
      },
      "source": [
        "from sklearn.model_selection import train_test_split\n",
        "x_train, x_test, y_train, y_test = train_test_split(train_df_x_pca, train_df_y, test_size = 0.2, random_state = 42)"
      ],
      "execution_count": 60,
      "outputs": []
    },
    {
      "cell_type": "code",
      "metadata": {
        "id": "aQIh-5Y_iVDr",
        "outputId": "d13cb26f-a266-44c4-b34a-59984bb056d7",
        "colab": {
          "base_uri": "https://localhost:8080/"
        }
      },
      "source": [
        "from sklearn.ensemble import RandomForestClassifier\n",
        "! pip install xgboost\n",
        "from xgboost import XGBClassifier\n",
        "! pip install lightgbm\n",
        "import lightgbm as lgbm\n",
        "from sklearn.tree import DecisionTreeClassifier\n",
        "from sklearn.neighbors import KNeighborsClassifier\n",
        "from sklearn.linear_model import LogisticRegression\n",
        "from sklearn import svm\n",
        "\n",
        "from sklearn.metrics import f1_score\n",
        "from sklearn.model_selection import RandomizedSearchCV"
      ],
      "execution_count": 61,
      "outputs": [
        {
          "output_type": "stream",
          "text": [
            "Requirement already satisfied: xgboost in /usr/local/lib/python3.7/dist-packages (0.90)\n",
            "Requirement already satisfied: scipy in /usr/local/lib/python3.7/dist-packages (from xgboost) (1.4.1)\n",
            "Requirement already satisfied: numpy in /usr/local/lib/python3.7/dist-packages (from xgboost) (1.19.5)\n",
            "Requirement already satisfied: lightgbm in /usr/local/lib/python3.7/dist-packages (2.2.3)\n",
            "Requirement already satisfied: numpy in /usr/local/lib/python3.7/dist-packages (from lightgbm) (1.19.5)\n",
            "Requirement already satisfied: scikit-learn in /usr/local/lib/python3.7/dist-packages (from lightgbm) (0.22.2.post1)\n",
            "Requirement already satisfied: scipy in /usr/local/lib/python3.7/dist-packages (from lightgbm) (1.4.1)\n",
            "Requirement already satisfied: joblib>=0.11 in /usr/local/lib/python3.7/dist-packages (from scikit-learn->lightgbm) (1.0.1)\n"
          ],
          "name": "stdout"
        }
      ]
    },
    {
      "cell_type": "markdown",
      "metadata": {
        "id": "P_TzYaIriVDr"
      },
      "source": [
        "### RandomForestClassifier"
      ]
    },
    {
      "cell_type": "code",
      "metadata": {
        "id": "-LeR-mSIiVDr",
        "outputId": "772bd098-d0f6-4a0f-c449-2940b83cd0b4",
        "colab": {
          "base_uri": "https://localhost:8080/"
        }
      },
      "source": [
        "# RandomForestClassifier\n",
        "RFC = RandomForestClassifier(random_state = 1).fit(x_train, y_train)\n",
        "pred_RFC = RFC.predict(x_test)\n",
        "score_RFC = f1_score(y_test, pred_RFC)\n",
        "print('RandomForestClassifier: ',score_RFC)"
      ],
      "execution_count": 62,
      "outputs": [
        {
          "output_type": "stream",
          "text": [
            "RandomForestClassifier:  0.6107523535361394\n"
          ],
          "name": "stdout"
        }
      ]
    },
    {
      "cell_type": "markdown",
      "metadata": {
        "id": "BkT8ts73iVDs"
      },
      "source": [
        "### XGBClassifier"
      ]
    },
    {
      "cell_type": "code",
      "metadata": {
        "id": "W6NSjPD3iVDs",
        "outputId": "e1fba19d-33d9-4f5f-b736-0a973d784d84",
        "colab": {
          "base_uri": "https://localhost:8080/"
        }
      },
      "source": [
        "# XGBClassifier\n",
        "XGBC = XGBClassifier(random_state = 1).fit(x_train, y_train)\n",
        "pred_XGBC = XGBC.predict(x_test)\n",
        "score_XGBC = f1_score(y_test, pred_XGBC)\n",
        "print('XGBClassifier: ',score_XGBC)"
      ],
      "execution_count": 63,
      "outputs": [
        {
          "output_type": "stream",
          "text": [
            "XGBClassifier:  0.6146499530996845\n"
          ],
          "name": "stdout"
        }
      ]
    },
    {
      "cell_type": "markdown",
      "metadata": {
        "id": "4j1SqND1iVDs"
      },
      "source": [
        "### DecisionTreeClassifier"
      ]
    },
    {
      "cell_type": "code",
      "metadata": {
        "id": "_5vJas0xiVDt",
        "outputId": "12ebdd6a-1b96-4037-8713-89f8784ce06c",
        "colab": {
          "base_uri": "https://localhost:8080/"
        }
      },
      "source": [
        "depth = []\n",
        "score_DTC = [] \n",
        "for i in range(1,21):\n",
        "    DTC = DecisionTreeClassifier(criterion=\"entropy\", max_depth = i, random_state = 1).fit(x_train, y_train)\n",
        "    pred_DTC = DTC.predict(x_test) \n",
        "    score = f1_score(y_test, pred_DTC)\n",
        "    depth.append(i)\n",
        "    score_DTC.append(score)\n",
        "    \n",
        "print('We get maximum f1_score {} for DecisionTreeClassifier when max_depth = {}.'.format\n",
        "      (max(score_DTC), depth[score_DTC.index(max(score_DTC))])  )"
      ],
      "execution_count": 64,
      "outputs": [
        {
          "output_type": "stream",
          "text": [
            "We get maximum f1_score 0.6129692832764505 for DecisionTreeClassifier when max_depth = 7.\n"
          ],
          "name": "stdout"
        }
      ]
    },
    {
      "cell_type": "code",
      "metadata": {
        "id": "LGufNRJ1iVDt",
        "outputId": "83cef7d0-079a-4447-c26d-ddab38b8d283",
        "colab": {
          "base_uri": "https://localhost:8080/"
        }
      },
      "source": [
        "DTC = DecisionTreeClassifier(criterion=\"entropy\", max_depth = 15, random_state = 1).fit(x_train, y_train)\n",
        "pred_DTC = DTC.predict(x_test)\n",
        "score_DTC = f1_score(y_test, pred_DTC)\n",
        "print('DecisionTreeClassifier: ',score_DTC)"
      ],
      "execution_count": 65,
      "outputs": [
        {
          "output_type": "stream",
          "text": [
            "DecisionTreeClassifier:  0.6002044989775052\n"
          ],
          "name": "stdout"
        }
      ]
    },
    {
      "cell_type": "markdown",
      "metadata": {
        "id": "hfQs0SPtiVDt"
      },
      "source": [
        "### KNeighborsClassifier"
      ]
    },
    {
      "cell_type": "code",
      "metadata": {
        "id": "LrlxZEQIiVDu",
        "outputId": "6d596a91-a07f-43e6-925e-65c1c85e24ca",
        "colab": {
          "base_uri": "https://localhost:8080/"
        }
      },
      "source": [
        "KNC = KNeighborsClassifier().fit(x_train, y_train)\n",
        "pred_KNC = KNC.predict(x_test) \n",
        "score = f1_score(y_test, pred_DTC)\n",
        "print('KNeighborsClassifier: ',score)"
      ],
      "execution_count": 66,
      "outputs": [
        {
          "output_type": "stream",
          "text": [
            "KNeighborsClassifier:  0.6002044989775052\n"
          ],
          "name": "stdout"
        }
      ]
    },
    {
      "cell_type": "code",
      "metadata": {
        "id": "ikzwO5cTiVDu",
        "outputId": "e1e7e3cd-20a1-4864-b2a7-dc675f22edd3",
        "colab": {
          "base_uri": "https://localhost:8080/"
        }
      },
      "source": [
        "n_neighbors = []\n",
        "score_KNC = []\n",
        "for i in range(3,10):\n",
        "    KNC = KNeighborsClassifier(n_neighbors = i).fit(x_train, y_train)\n",
        "    pred_KNC = KNC.predict(x_test) \n",
        "    score = f1_score(y_test, pred_DTC)\n",
        "    n_neighbors.append(i)\n",
        "    score_KNC.append(score)\n",
        "    \n",
        "print('We get maximum f1_score {} for KNeighborsClassifier when n_neighbors = {}.'.format\n",
        "      (max(score_KNC), n_neighbors[score_KNC.index(max(score_KNC))])  )"
      ],
      "execution_count": 67,
      "outputs": [
        {
          "output_type": "stream",
          "text": [
            "We get maximum f1_score 0.6002044989775052 for KNeighborsClassifier when n_neighbors = 3.\n"
          ],
          "name": "stdout"
        }
      ]
    },
    {
      "cell_type": "code",
      "metadata": {
        "id": "SkE4_VBTiVDu",
        "outputId": "e8f6908c-79a1-4dfc-df6c-b7e087dfc351",
        "colab": {
          "base_uri": "https://localhost:8080/"
        }
      },
      "source": [
        "KNC = KNeighborsClassifier(n_neighbors = 3).fit(x_train, y_train)\n",
        "pred_KNC = KNC.predict(x_test) \n",
        "score = f1_score(y_test, pred_DTC)\n",
        "print('KNeighborsClassifier: ',score)"
      ],
      "execution_count": 68,
      "outputs": [
        {
          "output_type": "stream",
          "text": [
            "KNeighborsClassifier:  0.6002044989775052\n"
          ],
          "name": "stdout"
        }
      ]
    },
    {
      "cell_type": "markdown",
      "metadata": {
        "id": "p4hnO7-biVDv"
      },
      "source": [
        "### LogisticRegression"
      ]
    },
    {
      "cell_type": "code",
      "metadata": {
        "id": "yi9AFMC5iVDv",
        "outputId": "4ca4b000-584b-45c6-ba6e-8d38b389ef75",
        "colab": {
          "base_uri": "https://localhost:8080/"
        }
      },
      "source": [
        "# LogisticRegression\n",
        "LogReg = LogisticRegression().fit(x_train, y_train)\n",
        "pred_LogReg = LogReg.predict(x_test)\n",
        "score_LogReg = f1_score(y_test, pred_LogReg)\n",
        "print('LogisticRegression: ',score_LogReg)"
      ],
      "execution_count": 69,
      "outputs": [
        {
          "output_type": "stream",
          "text": [
            "LogisticRegression:  0.4197286856526817\n"
          ],
          "name": "stdout"
        }
      ]
    },
    {
      "cell_type": "code",
      "metadata": {
        "id": "aI5TlCJwiVDv",
        "outputId": "6a1d6d78-5f0a-40e5-cc7e-c6c9c69b1fe0",
        "colab": {
          "base_uri": "https://localhost:8080/"
        }
      },
      "source": [
        "# LogisticRegression\n",
        "LogReg = LogisticRegression(C=0.01, solver='liblinear').fit(x_train, y_train)\n",
        "pred_LogReg = LogReg.predict(x_test)\n",
        "score_LogReg = f1_score(y_test, pred_LogReg)\n",
        "print('LogisticRegression: ',score_LogReg)"
      ],
      "execution_count": 70,
      "outputs": [
        {
          "output_type": "stream",
          "text": [
            "LogisticRegression:  0.4163736362816698\n"
          ],
          "name": "stdout"
        }
      ]
    },
    {
      "cell_type": "markdown",
      "metadata": {
        "id": "ufxwTjIpiVDw"
      },
      "source": [
        "### Support Vector Machine"
      ]
    },
    {
      "cell_type": "code",
      "metadata": {
        "id": "3Pd2PhcziVDw",
        "outputId": "756fc6d1-619e-48f3-fa3c-e5e9e6cdd71c",
        "colab": {
          "base_uri": "https://localhost:8080/"
        }
      },
      "source": [
        "# LogisticRegression\n",
        "SVM = svm.SVC().fit(x_train, y_train)\n",
        "pred_SVM = SVM.predict(x_test)\n",
        "score_SVM = f1_score(y_test, pred_SVM)\n",
        "print('LogisticRegression: ',score_SVM)"
      ],
      "execution_count": 71,
      "outputs": [
        {
          "output_type": "stream",
          "text": [
            "LogisticRegression:  0.6076319152820887\n"
          ],
          "name": "stdout"
        }
      ]
    },
    {
      "cell_type": "code",
      "metadata": {
        "id": "SNuyTA_5iVDx",
        "outputId": "8144bd73-09d3-4258-b269-5572137d84e6",
        "colab": {
          "base_uri": "https://localhost:8080/"
        }
      },
      "source": [
        "# LogisticRegression\n",
        "SVM = svm.SVC(kernel='rbf').fit(x_train, y_train)\n",
        "pred_SVM = SVM.predict(x_test)\n",
        "score_SVM = f1_score(y_test, pred_SVM)\n",
        "print('LogisticRegression: ',score_SVM)"
      ],
      "execution_count": 72,
      "outputs": [
        {
          "output_type": "stream",
          "text": [
            "LogisticRegression:  0.6076319152820887\n"
          ],
          "name": "stdout"
        }
      ]
    },
    {
      "cell_type": "markdown",
      "metadata": {
        "id": "WqcKLslziVDx"
      },
      "source": [
        "### Selecting XGBClassifier for final prediction."
      ]
    },
    {
      "cell_type": "code",
      "metadata": {
        "id": "AhAnopssiVDx"
      },
      "source": [
        "# XGBClassifier\n",
        "\n",
        "Prediction = XGBC.predict(test_df_x_pca)"
      ],
      "execution_count": 73,
      "outputs": []
    },
    {
      "cell_type": "code",
      "metadata": {
        "id": "qKS6k5l9iVDy",
        "outputId": "c1febfb3-d8ff-4e2f-8157-b072b167738a",
        "colab": {
          "base_uri": "https://localhost:8080/"
        }
      },
      "source": [
        "Prediction[:10]"
      ],
      "execution_count": 74,
      "outputs": [
        {
          "output_type": "execute_result",
          "data": {
            "text/plain": [
              "array([0, 1, 0, 0, 0, 1, 0, 0, 0, 0])"
            ]
          },
          "metadata": {
            "tags": []
          },
          "execution_count": 74
        }
      ]
    },
    {
      "cell_type": "markdown",
      "metadata": {
        "id": "3nFrw0DziVDy"
      },
      "source": [
        "Saving the Prediction as a excel file."
      ]
    },
    {
      "cell_type": "code",
      "metadata": {
        "id": "S5nrTfMCiVDy"
      },
      "source": [
        "submission_df = pd.read_csv(\"sample_submission.csv\")"
      ],
      "execution_count": 75,
      "outputs": []
    },
    {
      "cell_type": "code",
      "metadata": {
        "id": "KxksoVIpiVDz",
        "outputId": "107f4991-46d7-4750-de90-1c4995b276be",
        "colab": {
          "base_uri": "https://localhost:8080/",
          "height": 204
        }
      },
      "source": [
        "submission_df.head()"
      ],
      "execution_count": 76,
      "outputs": [
        {
          "output_type": "execute_result",
          "data": {
            "text/html": [
              "<div>\n",
              "<style scoped>\n",
              "    .dataframe tbody tr th:only-of-type {\n",
              "        vertical-align: middle;\n",
              "    }\n",
              "\n",
              "    .dataframe tbody tr th {\n",
              "        vertical-align: top;\n",
              "    }\n",
              "\n",
              "    .dataframe thead th {\n",
              "        text-align: right;\n",
              "    }\n",
              "</style>\n",
              "<table border=\"1\" class=\"dataframe\">\n",
              "  <thead>\n",
              "    <tr style=\"text-align: right;\">\n",
              "      <th></th>\n",
              "      <th>ID</th>\n",
              "      <th>PURCHASE</th>\n",
              "    </tr>\n",
              "  </thead>\n",
              "  <tbody>\n",
              "    <tr>\n",
              "      <th>0</th>\n",
              "      <td>150001</td>\n",
              "      <td>NaN</td>\n",
              "    </tr>\n",
              "    <tr>\n",
              "      <th>1</th>\n",
              "      <td>150002</td>\n",
              "      <td>NaN</td>\n",
              "    </tr>\n",
              "    <tr>\n",
              "      <th>2</th>\n",
              "      <td>150003</td>\n",
              "      <td>NaN</td>\n",
              "    </tr>\n",
              "    <tr>\n",
              "      <th>3</th>\n",
              "      <td>150004</td>\n",
              "      <td>NaN</td>\n",
              "    </tr>\n",
              "    <tr>\n",
              "      <th>4</th>\n",
              "      <td>150005</td>\n",
              "      <td>NaN</td>\n",
              "    </tr>\n",
              "  </tbody>\n",
              "</table>\n",
              "</div>"
            ],
            "text/plain": [
              "       ID  PURCHASE\n",
              "0  150001       NaN\n",
              "1  150002       NaN\n",
              "2  150003       NaN\n",
              "3  150004       NaN\n",
              "4  150005       NaN"
            ]
          },
          "metadata": {
            "tags": []
          },
          "execution_count": 76
        }
      ]
    },
    {
      "cell_type": "code",
      "metadata": {
        "id": "Mf0BvmGliVDz"
      },
      "source": [
        "submission_df.PURCHASE = Prediction"
      ],
      "execution_count": 77,
      "outputs": []
    },
    {
      "cell_type": "code",
      "metadata": {
        "id": "6PWkRNjbiVDz",
        "outputId": "66959b97-bc2d-4a90-c521-94beacd4d7d5",
        "colab": {
          "base_uri": "https://localhost:8080/",
          "height": 204
        }
      },
      "source": [
        "submission_df.tail()"
      ],
      "execution_count": 78,
      "outputs": [
        {
          "output_type": "execute_result",
          "data": {
            "text/html": [
              "<div>\n",
              "<style scoped>\n",
              "    .dataframe tbody tr th:only-of-type {\n",
              "        vertical-align: middle;\n",
              "    }\n",
              "\n",
              "    .dataframe tbody tr th {\n",
              "        vertical-align: top;\n",
              "    }\n",
              "\n",
              "    .dataframe thead th {\n",
              "        text-align: right;\n",
              "    }\n",
              "</style>\n",
              "<table border=\"1\" class=\"dataframe\">\n",
              "  <thead>\n",
              "    <tr style=\"text-align: right;\">\n",
              "      <th></th>\n",
              "      <th>ID</th>\n",
              "      <th>PURCHASE</th>\n",
              "    </tr>\n",
              "  </thead>\n",
              "  <tbody>\n",
              "    <tr>\n",
              "      <th>49995</th>\n",
              "      <td>199996</td>\n",
              "      <td>0</td>\n",
              "    </tr>\n",
              "    <tr>\n",
              "      <th>49996</th>\n",
              "      <td>199997</td>\n",
              "      <td>1</td>\n",
              "    </tr>\n",
              "    <tr>\n",
              "      <th>49997</th>\n",
              "      <td>199998</td>\n",
              "      <td>0</td>\n",
              "    </tr>\n",
              "    <tr>\n",
              "      <th>49998</th>\n",
              "      <td>199999</td>\n",
              "      <td>0</td>\n",
              "    </tr>\n",
              "    <tr>\n",
              "      <th>49999</th>\n",
              "      <td>200000</td>\n",
              "      <td>0</td>\n",
              "    </tr>\n",
              "  </tbody>\n",
              "</table>\n",
              "</div>"
            ],
            "text/plain": [
              "           ID  PURCHASE\n",
              "49995  199996         0\n",
              "49996  199997         1\n",
              "49997  199998         0\n",
              "49998  199999         0\n",
              "49999  200000         0"
            ]
          },
          "metadata": {
            "tags": []
          },
          "execution_count": 78
        }
      ]
    },
    {
      "cell_type": "code",
      "metadata": {
        "id": "uVI4H5X5iVDz"
      },
      "source": [
        "submission_df.to_csv('submission.csv', index = False)"
      ],
      "execution_count": 79,
      "outputs": []
    },
    {
      "cell_type": "markdown",
      "metadata": {
        "id": "PJv0kuKdiVD0"
      },
      "source": [
        "**Conclusion**:<br>\n",
        "We successfully predicted target variable(PURCHASE) for the test.csv and saved the prediction in submission.csv"
      ]
    }
  ]
}